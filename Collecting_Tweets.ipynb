{
 "cells": [
  {
   "cell_type": "markdown",
   "metadata": {},
   "source": [
    "# Collecting Tweets Using TWINT"
   ]
  },
  {
   "cell_type": "code",
   "execution_count": 1,
   "metadata": {},
   "outputs": [],
   "source": [
    "# Import necessary libraries\n",
    "\n",
    "import twint\n",
    "import nest_asyncio\n",
    "nest_asyncio.apply()"
   ]
  },
  {
   "cell_type": "code",
   "execution_count": 2,
   "metadata": {},
   "outputs": [],
   "source": [
    "def get_tweets(company_name):\n",
    "    c = twint.Config()\n",
    "    c.Search = company_name\n",
    "    c.Lang = 'en'\n",
    "    c.Since = '2019-08-12'\n",
    "    c.Until = '2019-08-13'\n",
    "    #c.Show_hashtags = True\n",
    "    c.Count = True\n",
    "    c.Store_csv = True\n",
    "    c.Custom['tweet'] = ['id', 'date', 'time', 'username', 'tweet']\n",
    "    c.Output ='tweets'\n",
    "    twint.run.Search(c)"
   ]
  },
  {
   "cell_type": "code",
   "execution_count": 3,
   "metadata": {},
   "outputs": [
    {
     "name": "stdout",
     "output_type": "stream",
     "text": [
      "1161064807182696449 2019-08-12 19:59:56 EDT <kawikatt> When there are enough EV’s to exceed the baseload when charging we should be off of coal power. Coal plants are already being replaced by battery plants which are now more profitable.\n",
      "1161064803894345728 2019-08-12 19:59:55 EDT <RandyMongenel> Well, I just bought a Tesla... Let's see if I can be this cool. :)\n",
      "1161064775125798917 2019-08-12 19:59:48 EDT <krsmithone> You can use my referral link to get 1,000 free Supercharger miles on a new #tesla #teslas #teslamotors #teslacars #teslamodels #teslamodelx #teslacar #teslaowner #electriccar #elonmusk #teslagigafactory #teslalove #teslafan #teslamodely #teslax #tsla https://ts.la/kraig46589 \n",
      "1161064764430323717 2019-08-12 19:59:46 EDT <Biffer09> This is where @elonmusk parks his Tesla\n",
      "1161064721040072704 2019-08-12 19:59:35 EDT <New_Seer> well, they certainly come handy when you need to go peepee while on the road :)\n",
      "1161064687426912256 2019-08-12 19:59:27 EDT <TeslaStraya> Nah that’s just the screen you get after you have configured your car and paid the $3K\n",
      "1161064663905374210 2019-08-12 19:59:22 EDT <Ormegaa> Hey Elon, could you provide us some Starhopper news ?\n",
      "1161064658729463809 2019-08-12 19:59:20 EDT <zillchris> WRONG! I love mini mart food. Greasy, delicious and disgusting awesomeness. No way would I allow food in a Tesla though.\n",
      "1161064646368997378 2019-08-12 19:59:17 EDT <carleenhaylett> How fantastic!!!!\n",
      "1161064642690596864 2019-08-12 19:59:17 EDT <fashlifters> SeLf DrIvInG cArS aRe SaFeR tHaN yOuR sHiTbOx   https://mobile.reuters.com/article/amp/idUSKCN1V10BB … Tesla electric car catches fire after hitting tow truck in Moscow ...  pic.twitter.com/Z5YjD7kuxi\n",
      "1161064597131948032 2019-08-12 19:59:06 EDT <feed_stocks> NYT columnist: Jeffrey Epstein said he was helping Elon Musk find a new chairman for Tesla  http://dlvr.it/RB78GX  pic.twitter.com/fGbmdQza9I\n",
      "1161064587195822080 2019-08-12 19:59:03 EDT <AdrianaGalayda> Where is Elon? pic.twitter.com/k12bezC2g5\n",
      "1161064547878350848 2019-08-12 19:58:54 EDT <Teslanomous> Kinda depressing where @Apple has prioritized since your death\n",
      "1161064544065740800 2019-08-12 19:58:53 EDT <JeremiahRoper3> In the future will I be able to program a @tesla to pick up my kids from school? @elonmusk only 5 more years of school to make this happen.\n",
      "1161064534645399553 2019-08-12 19:58:51 EDT <EvPorsche> This is old tech. Skip and go straight to chip in brain. All you have to do to summon is think summon.\n",
      "1161064529825955840 2019-08-12 19:58:50 EDT <tradingwithyg> I need an extra five hours in the day, lifetime supply of sour diesel, and a Tesla\n",
      "1161064467829936129 2019-08-12 19:58:35 EDT <PaulMaric> Source? Or no?\n",
      "1161064466362097665 2019-08-12 19:58:34 EDT <tesla_up1> I wish mine was complete. Does that mean you have picked it up??\n",
      "1161064442731384833 2019-08-12 19:58:29 EDT <snarkyright> Insta-torque is my only chance of conversion from  the religion “Stickianist”.  😝\n",
      "1161064406207422464 2019-08-12 19:58:20 EDT <alledrive> Steve is the new (and much improved) @zerohedge?😁 $tsla\n",
      "1161064397592154112 2019-08-12 19:58:18 EDT <PaulMaric> Hah, but you do? Would love to hear about the cars you've compared the audio system to.\n",
      "1161064367909031936 2019-08-12 19:58:11 EDT <NotConq> I'm also eyeing a Tesla but am going to wait to 2020 for that.\n",
      "1161064358652207104 2019-08-12 19:58:09 EDT <MoooMaxx> Where we gonna cop our dutches from tho?\n",
      "1161064336418172928 2019-08-12 19:58:03 EDT <islandmob662> WE'RE LIVING IN A DREAM, Internet, Tesla, Controlling Minds - Eddie Brav...  https://youtu.be/4BbQeZf-FIw  via @YouTube #WakeUp #Illuminati #Agenda2030 #Satanism #LookIntoIt #NBASchedule #GoodBoysMovie #MKUltra #PredictiveProgramming #5GUltraWideband #iphone11 #NFLPreseason #WWERaw\n",
      "1161064320689532928 2019-08-12 19:58:00 EDT <ShoodTheDude> Gimme a Tesla then  https://twitter.com/elonmusk/status/1160637748199301120 …\n",
      "1161064270756401153 2019-08-12 19:57:48 EDT <Japan_kenpou> Tesla Stock: As Unsustainable as Its Free Supercharging  https://finance.yahoo.com/news/tesla-stock-unsustainable-free-supercharging-121628106.html?soc_src=social-sh&soc_trk=tw … via @YahooFinance\n",
      "1161064240125489157 2019-08-12 19:57:41 EDT <Path_Trading> #TESLA : $TLSA Aug-12 Update #StockMarket Technical Analysis Chart  Watch ->  https://youtu.be/TNg-8h2MRYU  pic.twitter.com/JFyoYDw25f\n",
      "1161064191345778689 2019-08-12 19:57:29 EDT <jojopotat0> Made it home thank gawdddd 🙌🏼\n",
      "1161064141295108097 2019-08-12 19:57:17 EDT <pbdatlanta> NYT columnist: Epstein said he was helping Elon Musk find Tesla new chairman - CNBC $tslaq $tsla https://apple.news/AS2aqD9FTSriULt1NzCABVA …\n",
      "1161064127558823936 2019-08-12 19:57:14 EDT <MeglaWatt> Tesla owner takes on Porsche's claim with Model 3 Performance doing 31 launches - Electrek  https://electrek.co/2019/08/12/tesla-model-3-performance-porsche-claims/ …\n",
      "1161064113528872960 2019-08-12 19:57:10 EDT <CNBCtech> NYT columnist: Jeffrey Epstein said he was helping Elon Musk find a new chairman for Tesla  https://cnb.cx/2yU3w6O \n",
      "1161064113004404736 2019-08-12 19:57:10 EDT <PaulMaric> It's surprising, isn't it!?\n",
      "1161064111339462662 2019-08-12 19:57:10 EDT <callahan_colin> @elonmusk should name the pickup the Model Q as a🖕to the haters 😎🚀🚀🚀 @Tesla\n",
      "1161064040967409664 2019-08-12 19:56:53 EDT <Matthew97725434> Precisely! No different from the original internet chat rooms - just better marketing and on mobile devices.\n",
      "1161063999422771201 2019-08-12 19:56:43 EDT <UnderseaW> MBS did it in the open-embassies are watched, and he though he could get away with it.  \"an accident\" would have been much more stealth.  He did it knowing he'd be 'caught'.  Since he owns #45 somehow, he didn't care.\n",
      "1161063992019886080 2019-08-12 19:56:41 EDT <codingneko> What do you mean also? Jerryyyy? xdd\n",
      "1161063967671775232 2019-08-12 19:56:36 EDT <youngthinker024> With 1,000 a month freedom dividend!! http://Yang2020.com \n",
      "1161063963955736578 2019-08-12 19:56:35 EDT <billho888> Not something you hear about every day.   A Tesla owner implanted the RFID chip from her Model 3’s keycard into her arm   https://www.theverge.com/2019/8/12/20800798/tesla-model-3-rfid-chip-keycard-amiedd-video-watch-body-hacking-body-modification …\n",
      "1161063958670970886 2019-08-12 19:56:33 EDT <StokeNe21059315> I guess you're not familiar with Vogue? And what are the chances they're presenting Marxism in a critical, thoughtful way?\n",
      "1161063944661942278 2019-08-12 19:56:30 EDT <Feelings_Parade> I really am not sure what any of this has to do with the original statement. Yes Tesla makes evs at a loss.\n",
      "1161063935929282560 2019-08-12 19:56:28 EDT <achungerford> This tweet would’ve saved everyone a click. It’s the entire article in 7 lines.\n",
      "1161063906216988674 2019-08-12 19:56:21 EDT <TechL0G> NYT columnist: Jeffrey Epstein said he was helping Elon Musk find a new chairman for Tesla  https://www.cnbc.com/2019/08/12/nyt-column-epstein-said-he-was-helping-elon-musk-on-tesla-chairman.html …\n",
      "1161063885530705921 2019-08-12 19:56:16 EDT <ikg_agent> I have Tesla Jr (aka LEAF) and the feature that keeps you in lane is simply great and makes you feel much safer on the road. No autopilot but I know what you mean.\n",
      "1161063872838549504 2019-08-12 19:56:13 EDT <WadeAndersonPT> OK I'm reading online reviews of Tesla owners who have been there.\n",
      "1161063854920601600 2019-08-12 19:56:09 EDT <drowzy_meta> You made it a dead end, you accused Ave of being as thief while doing nothing at all to prove that 💀💀\n",
      "1161063850029879297 2019-08-12 19:56:08 EDT <alexbuljan> Croatian*\n",
      "1161063812948275201 2019-08-12 19:55:59 EDT <seatimesbiz> Yes, Google, Tesla, Amazon and others are still hiding quirky software surprises in their products, mostly to give you a chuckle. Tech writer David Pogue takes us through the history of\"Easter eggs\" with some favorites.  https://st.news/33ucypn \n",
      "1161063797378998272 2019-08-12 19:55:55 EDT <GuideInvestor> @CitronResearch, a newsletter edited by Andrew Left that focuses on shorting opportunities, issued a formal apology Monday to three people criticized in a March commentary on @Tesla  https://www.thestreet.com/investing/citron-apologizes-to-three-of-four-people-criticized-in-march-commentary-on-tesl-15054355 … @TheStreet\n",
      "1161063778093588481 2019-08-12 19:55:50 EDT <kglidden44> I can tell you where to start... call the support technicians like everyone other Tesla owner and don’t use your celebrity to tweet to them like you’re the first person to need assistance. 🤷🏻‍♀️\n",
      "1161063766705860608 2019-08-12 19:55:48 EDT <luluxxmuhgoo> Hey Alexa, how many bitches CAN you fit in the Tesla?\n",
      "1161063757512151041 2019-08-12 19:55:45 EDT <Giuliano1922> Nothing wrong with @elonmusk, but competition is coming  https://www.autohausaz.com/tech-tips/2022-bmw-i4-strong-competition-for-the-tesla-model-3?utm_source=Customer+List&utm_campaign=8895187ef1-aazblog-2022+BMW+i4&utm_medium=email&utm_term=0_ad86343d13-8895187ef1-91648701 …\n",
      "1161063749563944961 2019-08-12 19:55:44 EDT <Schicksaaal> Why does everyone give their Tesla car a name?\n",
      "1161063742131453954 2019-08-12 19:55:42 EDT <WyzeCam> Thanks, Brandon! We're happy that you enjoy that feature! 😀\n",
      "1161063674427011073 2019-08-12 19:55:26 EDT <JvhnJohn> Yo we can get a Tesla now\n",
      "1161063667770675200 2019-08-12 19:55:24 EDT <yashthakrar1996> Here’s how old these companies are:  Snapchat: 8 years Uber: 10 years Twitter: 13 years Facebook: 15 years Tesla: 16 years Google: 21 years Netflix: 22 years Amazon: 25 years Apple: 43 years Intel: 51 years HP: 80 years Disney: 96 years IBM: 108 years\n",
      "1161063650095796224 2019-08-12 19:55:20 EDT <WhatsupFranks> Yeah I did the modification to the frunk that lets it pop open automatically and it’s awesome\n",
      "1161063649064173570 2019-08-12 19:55:20 EDT <PaulMaric> I wouldn't worry too much about it. Of the motoring journalists that hang shit on Tesla, the ones that then drive the car end up enjoying it...it's about (eventual) exposure.\n",
      "1161063611516608512 2019-08-12 19:55:11 EDT <WadeAndersonPT> I know they are working hard to get more superchargers installed everywhere. Going to need a lot more options that are easy to access to keep winning over ICE folks for long road trips. Some Tesla owners have ICE as 2nd car for this reason.\n",
      "1161063605288230917 2019-08-12 19:55:09 EDT <pumgunter> Ok give me a Tesla then I can try it\n",
      "1161063578927058944 2019-08-12 19:55:03 EDT <tslaqpodcast> Props to @CitronResearch for apologizing formally to @WallStCynic @markbspiegel and David Einhorn  Won't be surprised if Andrew Left (Citron) is short Tesla again in the not-too-distant future  https://twitter.com/TheStreet/status/1161060916215058437 …\n"
     ]
    },
    {
     "name": "stdout",
     "output_type": "stream",
     "text": [
      "1161063569162567680 2019-08-12 19:55:01 EDT <mortchad> A ⁦@Tesla⁩ owner implanted the RFID chip from her Model 3’s keycard into her arm - This is true commitment!!!!!!! I hope ⁦@elonmusk⁩ sees this! https://www.theverge.com/2019/8/12/20800798/tesla-model-3-rfid-chip-keycard-amiedd-video-watch-body-hacking-body-modification …\n",
      "1161063545871720448 2019-08-12 19:54:55 EDT <Matthew97725434> Twitter is the antithesis of a book - no connected arguments - but there's something in it that moves us towards freedom if understood... from reading books! ☺️\n",
      "1161063487382024193 2019-08-12 19:54:41 EDT <inder123> Tesla kicks Chevy’s butt in loaner ride experience during servicing  https://link.medium.com/vsfBARgA6Y \n",
      "1161063484588789762 2019-08-12 19:54:40 EDT <MMike2016> One small step for Tesla one giant leap for Porsche 🤣🤣🤣... Porsche thought their effort would be competitive enough. Wrong!\n",
      "1161063482986393601 2019-08-12 19:54:40 EDT <indoorraccon> Why you gotta do me like that Tesla :(  https://twitter.com/Tesla/status/1160949898956673024 …\n",
      "1161063439814537226 2019-08-12 19:54:30 EDT <Ronaldvander123> Looks and sounds GREAT I’m gonna watch this series for sure. (Well, nothing is sure in life)\n",
      "1161063370797256706 2019-08-12 19:54:13 EDT <ParkerWoods55> what!? I got the 2020 tesla roadster early this is crazy #FANDOM pic.twitter.com/35qhZ3Xgez\n",
      "1161063356842725376 2019-08-12 19:54:10 EDT <Shawdie2> Eh. You could also have the title as   'why I'm not buying a Tesla model s'  And talk about why a Nissan leaf is better and use all of the exact same points, less cupholders.\n",
      "1161063337305628672 2019-08-12 19:54:05 EDT <scot_work> #Tesla is still selling the Performance Model 3 without the actual hardware for $49,990. In some cases, selling the customer an inventory AWD, and upgrading the software to Performance acceleration after delivery. $TSLA $TSLAQ pic.twitter.com/BH1ZQ4sPoL\n",
      "1161063316372037632 2019-08-12 19:54:00 EDT <GZ_Oh> @Blacknesssss All because YOU don't want a Tesla 🤣🤣🤣🤣  https://twitter.com/trapppo/status/1160946012460146688 …\n",
      "1161063232221659136 2019-08-12 19:53:40 EDT <flyerandyp> Even God can’t stop Tesla.\n",
      "1161063139162677248 2019-08-12 19:53:18 EDT <NotSoSilent1984> A Tesla owner implanted the RFID chip from her Model 3’s keycard into her arm    https://www.theverge.com/2019/8/12/20800798/tesla-model-3-rfid-chip-keycard-amiedd-video-watch-body-hacking-body-modification …\n",
      "1161063114047180800 2019-08-12 19:53:12 EDT <TeslaTested> Usually it’s a pin to enter for Tesla’s and it’s free\n",
      "1161063043914010624 2019-08-12 19:52:55 EDT <xonkd7> The chances of Porsche letting the Taycan be a 'con' is just about zero. And who cares about 300 miles in a luxury performance car?  My 911 turbo gets about 235 to a tankful around town.  Charge them at home.  Porsche is truly out of Tesla's league.\n",
      "1161063042815127553 2019-08-12 19:52:55 EDT <LindaAn75009610> Please Yang Gang buy only Tesla Car Elon Musk ( a car wd a Heart) 😍😍😍🐝🐝🐝\n",
      "1161063035076636672 2019-08-12 19:52:53 EDT <Dr_EinStein_J> There are about 1800 Koreans who have reserved M3s so far. Koreans have seen issues with MS and MX, yet people still want to get M3s. Although I am a Korean, I do not feel bad for their poor investment choices.\n",
      "1161063021097078784 2019-08-12 19:52:50 EDT <jazmine_aquino> Heyyyy @DavidDobrik , it’s me...... Hahahha I need a car , it doesn’t have to be a Tesla , something that can get me from A to B . 👏🏼😌\n",
      "1161063017813086209 2019-08-12 19:52:49 EDT <lawlol73> For a self driving car? That's pretty good\n",
      "1161063013052555266 2019-08-12 19:52:48 EDT <Matthew97725434> Never never! Haven't paid for 'gas' for well over 2 years now. @tesla are simply the best car one can buy right now\n",
      "1161063012116992001 2019-08-12 19:52:48 EDT <AnApeInKhakis> I’m no mechanic, but it looks like you put that nail in the wrong spot.\n",
      "1161063006026911744 2019-08-12 19:52:46 EDT <amarkanala> Apparently few don’t  https://youtu.be/j52odgkRxDs  😂\n",
      "1161062926133841920 2019-08-12 19:52:27 EDT <ChernSchwinn1> Elon Musk to open Tesla R&D plant in Greece  https://amp.theguardian.com/technology/2018/mar/02/elon-musk-to-open-tesla-rd-plant-in-greece …\n",
      "1161062883637235712 2019-08-12 19:52:17 EDT <Chaneileon> Thanks! I'm currently working on Rick, Morty, and Meeseeks driving a Tesla and running down Donald Trump.\n",
      "1161062878578761728 2019-08-12 19:52:16 EDT <DrvrBby> Haha where have I seen that logo before? 🤔\n",
      "1161062873545752577 2019-08-12 19:52:15 EDT <schwantasticc> But I still need chew\n",
      "1161062847574495232 2019-08-12 19:52:09 EDT <terryotis> NYT column: Epstein said he was helping Elon Musk on Tesla chairman..... This guy probably short selling Tesla  https://www.cnbc.com/2019/08/12/nyt-column-epstein-said-he-was-helping-elon-musk-on-tesla-chairman.html …\n",
      "1161062824778616832 2019-08-12 19:52:03 EDT <USympathizer> I'm glad you put \"adult\" in quotes.  Anyway, I guess I give young women more credit than you do for knowing bullsh*t when they read it in Teen Vogue.\n",
      "1161062613511487488 2019-08-12 19:51:13 EDT <jxn_tse> who do you ship more? david dobrik and his tesla or camilla cabello and shawn mendes\n",
      "1161062593257099265 2019-08-12 19:51:08 EDT <Ricardo_21710> @elonmusk Can you gift me a Tesla for my birthday tomorrow? :)\n",
      "1161062591516434432 2019-08-12 19:51:07 EDT <TeslaStraya> Congratulations! The more the merrier! What configuration did you order?\n",
      "1161062590602043392 2019-08-12 19:51:07 EDT <mortchad> I got the one from @PureTesla recommended by @StatsTeslaApp and comes pre formatted. So far works awesome!!!\n",
      "1161062584960933889 2019-08-12 19:51:06 EDT <xracer264> When Tesla reformed in the early 2000, I was in the fan club. I got the Re-plugged Live CD a day early. The next day I was listening to it at work. I've never made it through the cd and I never listened to it again. That day was 09/11/01\n",
      "1161062558595522561 2019-08-12 19:51:00 EDT <TylerFreeland32> Today, this sentence was spoken to me, “Tesla cars are worse for the environment than gasoline vehicles because of the amount of carbon that comes from the nuclear and coal power plants that supply their electricity.”  Not. Joking. 🤦🏻‍♂️\n",
      "1161062537703636992 2019-08-12 19:50:55 EDT <Matthew97725434> Bye bye Audi! It was a good run but now we have @tesla\n",
      "1161062524722327555 2019-08-12 19:50:52 EDT <carunicorn123> @elonmusk what do you think about this guy turning an Audi S5 into a \"Tesla\"  https://youtu.be/nGVVioOjCUU \n",
      "1161062518783139849 2019-08-12 19:50:50 EDT <TeslaLisa> And they are attacks by people that never touched a Tesla, let alone driven one (on AP).\n",
      "1161062507030728705 2019-08-12 19:50:47 EDT <Twilksss3> only in south tampa would a winn dixie have tesla charging stations\n",
      "1161062440299315201 2019-08-12 19:50:31 EDT <kylecoolky> It’s the only way companies will survive. The market is so saturated that products alone aren’t making the money they used to. Companies are running out of ideas and phones are lasting longer now. They need another way to make money. Something reliable.\n",
      "1161062433588486144 2019-08-12 19:50:30 EDT <jboetcher> I think I have room somewhere..... pic.twitter.com/GdbTcQjZwW\n",
      "1161062363325296640 2019-08-12 19:50:13 EDT <OMGTinoG> Actually by law they have to provide free air to anyone who asks. So next time instead of paying the 25 cents or whatever it is, just ask the cashier and he or she will press a button and the air will come on.\n",
      "1161062331771576320 2019-08-12 19:50:06 EDT <kikou_mewan> ... However, the artificial \"Qi\" is quite low in quality level compared with \"Qi\" involving 'Mantra' etc. #qi #scalar #weapon #tesla #mantra\n",
      "1161062254898491392 2019-08-12 19:49:47 EDT <The_PlugSeeker> Out of interest, what would do you think stop you from being able to manage with an EV at this point. Have you looked into the possibilities to fit your useage pattern? 🤔 not out to be adversarial, just like to stimulate debate and thought about EVs.\n",
      "1161062133959942145 2019-08-12 19:49:18 EDT <chi7891> Maybe look at an EV. Tesla’s are best but probably too expensive. You can probably get a used Nissan Leaf for CHEAP. Either way, no maintenance\n",
      "1161062105354817537 2019-08-12 19:49:12 EDT <CNBC> NYT columnist: Jeffrey Epstein said he was helping Elon Musk find a new chairman for Tesla  https://cnb.cx/2yTE95f \n",
      "1161062095552749568 2019-08-12 19:49:09 EDT <5notesplus7> I don't disagree! Tesla was unreal magical genius.\n",
      "1161062091593277441 2019-08-12 19:49:08 EDT <nathanielpitts> I call them \"snack stations\" now\n",
      "1161062054268063744 2019-08-12 19:48:59 EDT <mortchad> We may need to battle Tammy @motterstedt33 for @Tesla Karaoke  https://twitter.com/tammyharrington/status/1160741562227265538 …\n",
      "1161062049864196096 2019-08-12 19:48:58 EDT <LaraKWalker> Check out this Amazon deal: SAILEAD Tesla Model 3 Custom Fit Floor Mats -... by SAILEAD  https://amzn.to/2MguBd6  via @amazon\n",
      "1161062001659043841 2019-08-12 19:48:47 EDT <websaddik> Tesla Stock Speeds Toward Brink as Analyst Warns of 'Outright Disaster'  https://www.ccn.com/tesla-stock-speeds-toward-brink-as-analyst-warns-of-outright-disaster/ …\n",
      "1161061951180460033 2019-08-12 19:48:35 EDT <randw> Makes me wonder what the design cycles entailed.  Rapid prototyping? User-testing?  Or just like: GIMME TESLA SCREENS!\n",
      "1161061931718979590 2019-08-12 19:48:30 EDT <laila_soc> Gas stations are kind of fun on road trips :P\n",
      "1161061922994884609 2019-08-12 19:48:28 EDT <jchybow> Tesla iOS update is hot. What’s it do?....not much more than it did, seemingly. But here’s some update notes (which only appear for the iPad version of the app).  #Tesla #OTAisBetter pic.twitter.com/xzHKAtVE1b\n",
      "1161061888584630272 2019-08-12 19:48:20 EDT <LindaAn75009610> Because Tesla,Elon is caring😍  https://twitter.com/kawikatt/status/1160704766860619776 …\n",
      "1161061885552148481 2019-08-12 19:48:19 EDT <kawikatt> Most EV’s are charged at night using baseload so if you think about it that’s coal that would have been burned either way.\n",
      "1161061865134292993 2019-08-12 19:48:14 EDT <WHITED___> When was the disciples Tesla scene shot?\n",
      "1161061822864080896 2019-08-12 19:48:04 EDT <picklehomer> Bodies are just a collection of hot dogs of various consistencies, even DNA (two hot dogs tied together into a helix)  Yeah I'm fine, it doesn't even hurt today.  I need to start on your utensils today, I was stressin' about exact design but TBH it ain't no big deal\n",
      "1161061817298423808 2019-08-12 19:48:03 EDT <schalke_usa> Yes, they are all unique individuals. Two of my cats are inside only (Morifade and Diva Marie). Four are outside only (Lilly Bemis, Gita Govinda, Curtis Ian, and Veda Patel). And two are semi-feral (Veronica Collins and Tesla Lochland).\n",
      "1161061814442049537 2019-08-12 19:48:02 EDT <HelperTesla> I don’t wait a single minute... as don’t most owners  I charge during the night. I wake up every day to a “full tank”. I don’t have to go out of my way and spend minutes refilling my car on a weekly basis anymore.\n",
      "1161061767566548992 2019-08-12 19:47:51 EDT <Represent574> Are You saying that sarcastically while you look for a charging station in Indiana?\n",
      "1161061737413730304 2019-08-12 19:47:44 EDT <kgaider> Where have you been ? TESLA is setting up a massive factory in CHINA so they can make use of CHEAP COAL POWER and CHEAP labour.\n"
     ]
    },
    {
     "name": "stdout",
     "output_type": "stream",
     "text": [
      "1161061732531494912 2019-08-12 19:47:43 EDT <dez_blanchfield> #ITYS. Tesla electric car catches fire after hitting tow truck in Moscow  https://qoo.ly/z53mu  via @reuters\n",
      "1161061714181234688 2019-08-12 19:47:38 EDT <MpcPeters> What’s Tesla?\n",
      "1161061712696696835 2019-08-12 19:47:38 EDT <hellhoundone> Don’t feel bad about carbon emissions, it’d take about 1 billion of your Rams  driving for years to equal one rocket launch these guys do once every few months. Lol Pretty sure that’s why the rivers glow here too\n",
      "1161061690558955520 2019-08-12 19:47:33 EDT <SEObyKim> Tesla’s battery farm in Australia suspends all fossil fuel back up plants  https://themarketingfolks.com/teslas-battery-farm-in-australia-suspends-all-fossil-fuel-back-up-plants/ … pic.twitter.com/EEQvRtW5vo\n",
      "1161061682824663040 2019-08-12 19:47:31 EDT <hohocho> We know lots of Tesla quality issues here in S.Korea. And don’t worry, Koreans are not bad identifying service problems. Because we’re very connected society.\n",
      "1161061677389033472 2019-08-12 19:47:30 EDT <marlow_marlow2> You have it too. 😂😂😂\n",
      "1161061665065988096 2019-08-12 19:47:27 EDT <iAMCosmicBodhi> You should know time travel and teleportation is Astral Projection, but as for physical that's something we have to figure out. I would look into the things Tesla was doing feel like he was onto something way bigger than free energy.\n",
      "1161061663317082112 2019-08-12 19:47:26 EDT <SocialConstruck> Scratch that, Tesla’s are gonna be driving them\n",
      "1161061656698527745 2019-08-12 19:47:25 EDT <costa11235> I believe you, it’s good. But, I’ve overtaken enough Teslas on the highway  to know that they’re not meant for cruising at high speeds, which is kinda not good. Not a Tesla specific issue, more of an BEV one, but still.\n",
      "1161061654383214592 2019-08-12 19:47:24 EDT <The_PlugSeeker> What people need to realise is that we don’t have luxury of time, we have a few short years to really turn around Global climate change , not 30 yrs. Not everyone can make EV transition now, but vast majority could here and now today, not in 10-30 yrs. EVs are ready now.\n",
      "1161061613451010048 2019-08-12 19:47:14 EDT <g3thaunted> lmao elon musk went to jeffrey epstein for advice after his \"taking Tesla private at $420/share 🔥🌲🌬️\" tweet  pic.twitter.com/mfV7si7qrA\n",
      "1161061606131765249 2019-08-12 19:47:13 EDT <Blackhousebrew1> Looking forward to a video about it👍\n",
      "1161061586443886592 2019-08-12 19:47:08 EDT <glitt3rlemonade> OMG IT WORKED DAVID DOBRIK SURPRISED ME WITH A TESLA 🤩  pic.twitter.com/vchgi6LfwM\n",
      "1161061580748087297 2019-08-12 19:47:06 EDT <HelperTesla> Actually the typical charging experience is quite different  It is done at your home, while you sleep. Very similar to your phone   This means you plug your car in when you get home, and wake up to a “full tank” every single morning. Much more convenient than gas\n",
      "1161061573760360448 2019-08-12 19:47:05 EDT <tom_m014> Did you try turning it off and back on?\n",
      "1161061557888880640 2019-08-12 19:47:01 EDT <ryanhaslag> Nobody has a Tesla?\n",
      "1161061535730425856 2019-08-12 19:46:56 EDT <jpr007> Even with Renault, Tesla is 5.6x bigger.  Leadership gains scale.  Scale and leadership provides continuous opportunities to improve costs.  Difficult to catch up.\n",
      "1161061531301359617 2019-08-12 19:46:55 EDT <marlow_marlow2> Liar s lying\n",
      "1161061512502480896 2019-08-12 19:46:50 EDT <EricPoppen1> You live in a gas station?\n",
      "1161061508064804864 2019-08-12 19:46:49 EDT <realChaoZhou> Everything of giga3 is going fine Under typhoon Lekima attack, just some plastic walls were falling off, not big deal, but maybe great for gigafishing out there.  @OZZEY_H will join us tomorrow for the Lekima Tomorrow adventure at #GF3. It will be fun.  $tsla #tesla #shanghai\n",
      "1161061458966433792 2019-08-12 19:46:37 EDT <Matthew97725434> I'm sure this is not a trick question so I'm gonna go for er.. @tesla\n",
      "1161061451999698949 2019-08-12 19:46:36 EDT <tslaqpodcast> That time factor can turn your brain into almost an addict, as @JTSEO9 has wisely pointed out  I am starting to do much less with options. Part of my metamorphosis/maturing as an investor is to short some shares of Tesla and now some other companies too\n",
      "1161061448128221186 2019-08-12 19:46:35 EDT <Sofiaan> Nah. Backup/restore on new device.\n",
      "1161061404834594816 2019-08-12 19:46:25 EDT <Vines24729956> I hope its really so exciting that Porsche sells 20k every year. Right now Tesla cannot sell more vehicles, they are production constrained. Likely these will be Porsche cannibalizing most of their own sales. More ev the better. When other manufacturers fully buy in people notice\n",
      "1161061329479852033 2019-08-12 19:46:07 EDT <BMoreMonMon> @Tesla you and your #customerservice are the absolute worst. #solarpanels have been a money drain and a huge pain in the ass. Beginning to think it's not worth it anymore. #DontBuySolar with #Tesla.\n",
      "1161061303554732032 2019-08-12 19:46:00 EDT <mrkylefield> Wait, you've had the same phone for 3 year??  🤪😝🤣 But seriously...really?\n",
      "1161061186663661569 2019-08-12 19:45:33 EDT <JohnCot44449823> I’m currently writing up the final stages of my report. Thanks again to everyone who has helped with the project. Side note, there are Tesla’s everywhere in LA  pic.twitter.com/4kc2Y8gt1S\n",
      "1161061183790735360 2019-08-12 19:45:32 EDT <HelperTesla> You realize Teslas go much further and charge much faster than that?   370 miles of range, which is about 5 1/2 hours of driving  After that amount of time, I’d like to stop anyway, as would most people   You can also get 75 miles of range in 5 minutes at a V3 supercharger\n",
      "1161061180980572160 2019-08-12 19:45:31 EDT <Agenttexes> Wandering around after getting shot in the head and losing my memories. Getting my brain, spine and heart torn out and replaced with tesla coils and random junk. You know, as you do.\n",
      "1161061148457951233 2019-08-12 19:45:23 EDT <EmperorBlargus> Tesla bus, Tesla coach plz.\n",
      "1161061147887439872 2019-08-12 19:45:23 EDT <The_PlugSeeker> I think that’s an unlikely timeframe, it’s happening now. Hybrids are a waste of time, they are marginal improvements and a dead end tech. They are still causing almost same #AirPollution and CO2, it’s like cutting from 20 cigarettes day to 15.\n",
      "1161061073073709057 2019-08-12 19:45:05 EDT <cre_ron> We haven't heard much about Tesla's Solar Roof division, neither have many of those who ordered with a $1,000 deposit. #renewableenergy #goinggreen #CRE #HighDesert #InlandEmpire #realestate #land #industrial http://ow.ly/pLHb50vvnzF \n",
      "1161061065670553600 2019-08-12 19:45:04 EDT <kikou_mewan> With the application of Nikola Tesla's technology, \"Qi\" can be generated artificially ... #qi #scalar #weapon #tesla #mantra\n",
      "1161061053264007169 2019-08-12 19:45:01 EDT <trumpardons> Tesla CEO Elon Musk said he supports Democratic presidential candidate Andrew Yang, calling universal basic income 'Obviously needed' - Business Insider  https://apple.news/AUIkfbNZIQ1GC_Kc1Nw9ciA …\n",
      "1161061051011653633 2019-08-12 19:45:00 EDT <masteroogwayrip> IT’S TRUE HERE’S ME STANDING BY MY NEW TESLA MODEL X FOR PROOF #FANDOM pic.twitter.com/p5dX4SAgph\n",
      "1161061032418316290 2019-08-12 19:44:56 EDT <FindTheSeven> @theREALDvorak (Aug 12, 2019) Tesla Model 3 crashes into parked truck. Shortly after, car explodes twice. -  https://www.reddit.com/r/CatastrophicFailure/comments/cpgrvb/aug_12_2019_tesla_model_3_crashes_into_parked/?utm_medium=android_app&utm_source=share …\n",
      "1161061013313204224 2019-08-12 19:44:51 EDT <hellhoundone> People acting like Tesla’s are saving the environment need to Google how much damage one single rocket does to the atmosphere. Lol\n",
      "1161060997538439168 2019-08-12 19:44:47 EDT <AceCanary> Just knick knacks no gas\n",
      "1161060994526961664 2019-08-12 19:44:47 EDT <gabriole1> Utilities are buying batteries larger than shipping containers. Tesla’s new unit can hold enough energy to power every home in San Francisco for six hours.  https://www.wsj.com/articles/giant-batteries-supercharge-wind-and-solar-plans-11565535601 … via @WSJ\n",
      "1161060988730454016 2019-08-12 19:44:45 EDT <MinimalDuck> Last time I tried to visit a gas station... pic.twitter.com/ekMxYPmZia\n",
      "1161060979116933121 2019-08-12 19:44:43 EDT <tonycanales> Epstein and Tesla and others in the Silicon Valley, Oh My!    https://www.msn.com/en-ca/news/world/the-day-jeffrey-epstein-told-me-he-had-dirt-on-powerful-people/ar-AAFI7k5 …\n",
      "1161060974415294466 2019-08-12 19:44:42 EDT <anith> Tesla Model 3 owner implants car key into her forearm  https://anith.com/tesla-model-3-owner-implants-car-key-into-her-forearm/ …\n",
      "1161060952869167105 2019-08-12 19:44:37 EDT <USympathizer> Yeah. I think I do know. Take a minute to check out @TeenVogue .  It's obvious what they're preaching.\n",
      "1161060929741586432 2019-08-12 19:44:31 EDT <Pixeltw1> 24 Premium WordPress Tesla Themes + optional HTML Themes – only $25! #wordpress #photoshop #javascript  https://pixel2pixeldesign.com/24-premium-wordpress-tesla-themes-optional-html-themes-25/?utm_source=ReviveOldPost&utm_medium=social&utm_campaign=ReviveOldPost … #deals\n",
      "1161060922674184192 2019-08-12 19:44:30 EDT <Scairp114> It’s always the same with these pigs. He WAS a dirty old man who wanted to schtupp teenagers like it’s the same thing as two teenagers having consensual sex. I know it’s a problem for legal cases he croaked himself but I can’t help it, I’m so happy he’s dead.\n",
      "1161060916215058437 2019-08-12 19:44:28 EDT <TheStreet> Citron Research, a newsletter edited by Andrew Left that focuses on shorting opportunities, issued a formal apology Monday to three people criticized in a March commentary on Tesla  https://www.thestreet.com/investing/citron-apologizes-to-three-of-four-people-criticized-in-march-commentary-on-tesl-15054355 …\n",
      "1161060910057885697 2019-08-12 19:44:27 EDT <VinChris246> You may be referring to Colbalt and not Lithium, TESLA uses no colbalt in Li Batts\n",
      "1161060907583254529 2019-08-12 19:44:26 EDT <spookywheelspt2> I WANT A TESLA #FANDOM https://youtu.be/kvvojZqlonQ \n",
      "1161060870648225794 2019-08-12 19:44:17 EDT <HelperTesla> Where did you get this from?  I paid $35 to fill up my gasoline SUV  Now I pay $2-5 to fill up my electric SUV\n",
      "1161060851262140416 2019-08-12 19:44:13 EDT <ColoniaUSA> Yeah and I now have high electrical power bills, created a big chemical waste problem with a battery spill and my car almost caught fire.\n",
      "1161060830278012928 2019-08-12 19:44:08 EDT <RuthlessRaDiCaL> Why does it matter? JESUS you like dark mode and he likes light mode get over it child.\n",
      "1161060761596129280 2019-08-12 19:43:51 EDT <najmiazman24> buy a new Tesla  https://twitter.com/Casey/status/1160941773163622400 …\n",
      "1161060714292736001 2019-08-12 19:43:40 EDT <LammaticHama> I like that they included one pissed off Incel driving a Tesla 1-seater  https://twitter.com/HaygoodLaw/status/1160775707980705792 …\n",
      "1161060651223126018 2019-08-12 19:43:25 EDT <Pete_Clay> What size solar/storage system do you have? Looks like I can go only to 11.7kW without buying $1M Insurance policy in Florida! May have to go with Mission Solar modules to narrow post-Tax Credit cost to ~$13k. Then maybe I can find the scratch to add Powerwalls. Sad but true.\n",
      "1161060615919677440 2019-08-12 19:43:16 EDT <161phi> Dude is a salesman, not a money manager.  His product just happens 2 be funds instead of Tesla stock\n",
      "1161060587750776833 2019-08-12 19:43:10 EDT <595moore> Video Shows Crashed Tesla Model 3 Violently Explode Multiple Times After Initial Impact - The Drive  https://www.thedrive.com/news/29378/video-shows-crashed-tesla-model-3-violently-explode-multiple-times-after-initial-impact … via @GoogleNews\n",
      "1161060574375100416 2019-08-12 19:43:07 EDT <LeadingEdgeSvc> While DC fast chargers are the current fastest, Tesla’s Superchargers are faster; adding up to 170 miles in 30 minutes and improving yearly.  pic.twitter.com/jMb6gxfpPP\n",
      "1161060573590806528 2019-08-12 19:43:06 EDT <team_kiwisolar> Have you ever heard about Tesla Power 2 Battery?  Tesla Powerwall allows you to store 14 kWh of energy and use that energy to run your home with solar during the night and back up your home in the event of a power outage. The battery is compact, safe and includes a built-in …  pic.twitter.com/WGvoDoHuZl\n",
      "1161060356145520640 2019-08-12 19:42:15 EDT <naplesdave> Why are they making the news while thousands aren’t? The thousands have been around for decades. Tesla is still a baby with everyone watching. For many, Tesla is a fad and they will magnify every incident. Not surprising.\n",
      "1161060341419298822 2019-08-12 19:42:11 EDT <nopoetjustice> I find it very convinient to charge at home\n"
     ]
    },
    {
     "name": "stdout",
     "output_type": "stream",
     "text": [
      "1161060332929814528 2019-08-12 19:42:09 EDT <ResistMoveTRM> Tesla on Autopilot bursts into flames after slamming into tow truck in Moscow, reports say  http://j.mp/2H2D3ZA  pic.twitter.com/HHh3H2ja4g\n",
      "1161060313476804609 2019-08-12 19:42:04 EDT <clairefelicite2> I made a comment that in the Russia tesla crash and explosion footage. Random no followed and not even following many accounts handlers showed up. Because they are credible. Morons.\n",
      "1161060281474330624 2019-08-12 19:41:57 EDT <IheartTesla> Never looked back, don't miss it and never going back. I like this view better.🙂❤🚗 pic.twitter.com/JGuPdZGEhe\n",
      "1161060263652540416 2019-08-12 19:41:52 EDT <StacyDavisIV> I need a Tesla asap\n",
      "1161060251677995014 2019-08-12 19:41:50 EDT <HelperTesla> Nobody waits to charge their electric car... it’s done in similar to your phone Charging is done while you sleep, so you wake up to “full tank” every morning   By the way, even an EV powered on 100% coal electricity has a smaller carbon footprint than a gasoline car\n",
      "1161060235370553346 2019-08-12 19:41:46 EDT <gr8_k1ll> False the gas station to get Joplin beefsticks I miss TERRIBLY\n",
      "1161060226981756929 2019-08-12 19:41:44 EDT <gregmckone> I miss the gas smell on my hands.  NOT\n",
      "1161060177916977152 2019-08-12 19:41:32 EDT <IronEdison> We might be small now, but always willing to (respectfully) #claw away a tiny bit of @Tesla market share.  pic.twitter.com/9Jj68n7uQW\n"
     ]
    },
    {
     "ename": "KeyboardInterrupt",
     "evalue": "",
     "output_type": "error",
     "traceback": [
      "\u001b[0;31m---------------------------------------------------------------------------\u001b[0m",
      "\u001b[0;31mKeyboardInterrupt\u001b[0m                         Traceback (most recent call last)",
      "\u001b[0;32m<ipython-input-3-adc234bf99fd>\u001b[0m in \u001b[0;36m<module>\u001b[0;34m\u001b[0m\n\u001b[0;32m----> 1\u001b[0;31m \u001b[0mget_tweets\u001b[0m\u001b[0;34m(\u001b[0m\u001b[0;34m\"tesla\"\u001b[0m\u001b[0;34m)\u001b[0m\u001b[0;34m\u001b[0m\u001b[0;34m\u001b[0m\u001b[0m\n\u001b[0m",
      "\u001b[0;32m<ipython-input-2-924aa3dcc0c1>\u001b[0m in \u001b[0;36mget_tweets\u001b[0;34m(company_name)\u001b[0m\n\u001b[1;32m     10\u001b[0m     \u001b[0mc\u001b[0m\u001b[0;34m.\u001b[0m\u001b[0mCustom\u001b[0m\u001b[0;34m[\u001b[0m\u001b[0;34m'tweet'\u001b[0m\u001b[0;34m]\u001b[0m \u001b[0;34m=\u001b[0m \u001b[0;34m[\u001b[0m\u001b[0;34m'id'\u001b[0m\u001b[0;34m,\u001b[0m \u001b[0;34m'date'\u001b[0m\u001b[0;34m,\u001b[0m \u001b[0;34m'time'\u001b[0m\u001b[0;34m,\u001b[0m \u001b[0;34m'username'\u001b[0m\u001b[0;34m,\u001b[0m \u001b[0;34m'tweet'\u001b[0m\u001b[0;34m]\u001b[0m\u001b[0;34m\u001b[0m\u001b[0;34m\u001b[0m\u001b[0m\n\u001b[1;32m     11\u001b[0m     \u001b[0mc\u001b[0m\u001b[0;34m.\u001b[0m\u001b[0mOutput\u001b[0m \u001b[0;34m=\u001b[0m\u001b[0;34m'tweets'\u001b[0m\u001b[0;34m\u001b[0m\u001b[0;34m\u001b[0m\u001b[0m\n\u001b[0;32m---> 12\u001b[0;31m     \u001b[0mtwint\u001b[0m\u001b[0;34m.\u001b[0m\u001b[0mrun\u001b[0m\u001b[0;34m.\u001b[0m\u001b[0mSearch\u001b[0m\u001b[0;34m(\u001b[0m\u001b[0mc\u001b[0m\u001b[0;34m)\u001b[0m\u001b[0;34m\u001b[0m\u001b[0;34m\u001b[0m\u001b[0m\n\u001b[0m",
      "\u001b[0;32m~/src/twint/twint/run.py\u001b[0m in \u001b[0;36mSearch\u001b[0;34m(config, callback)\u001b[0m\n\u001b[1;32m    290\u001b[0m     \u001b[0mconfig\u001b[0m\u001b[0;34m.\u001b[0m\u001b[0mProfile\u001b[0m \u001b[0;34m=\u001b[0m \u001b[0;32mFalse\u001b[0m\u001b[0;34m\u001b[0m\u001b[0;34m\u001b[0m\u001b[0m\n\u001b[1;32m    291\u001b[0m     \u001b[0mconfig\u001b[0m\u001b[0;34m.\u001b[0m\u001b[0mProfile_full\u001b[0m \u001b[0;34m=\u001b[0m \u001b[0;32mFalse\u001b[0m\u001b[0;34m\u001b[0m\u001b[0;34m\u001b[0m\u001b[0m\n\u001b[0;32m--> 292\u001b[0;31m     \u001b[0mrun\u001b[0m\u001b[0;34m(\u001b[0m\u001b[0mconfig\u001b[0m\u001b[0;34m,\u001b[0m \u001b[0mcallback\u001b[0m\u001b[0;34m)\u001b[0m\u001b[0;34m\u001b[0m\u001b[0;34m\u001b[0m\u001b[0m\n\u001b[0m\u001b[1;32m    293\u001b[0m     \u001b[0;32mif\u001b[0m \u001b[0mconfig\u001b[0m\u001b[0;34m.\u001b[0m\u001b[0mPandas_au\u001b[0m\u001b[0;34m:\u001b[0m\u001b[0;34m\u001b[0m\u001b[0;34m\u001b[0m\u001b[0m\n\u001b[1;32m    294\u001b[0m         \u001b[0mstorage\u001b[0m\u001b[0;34m.\u001b[0m\u001b[0mpanda\u001b[0m\u001b[0;34m.\u001b[0m\u001b[0m_autoget\u001b[0m\u001b[0;34m(\u001b[0m\u001b[0;34m\"tweet\"\u001b[0m\u001b[0;34m)\u001b[0m\u001b[0;34m\u001b[0m\u001b[0;34m\u001b[0m\u001b[0m\n",
      "\u001b[0;32m~/src/twint/twint/run.py\u001b[0m in \u001b[0;36mrun\u001b[0;34m(config, callback)\u001b[0m\n\u001b[1;32m    211\u001b[0m \u001b[0;32mdef\u001b[0m \u001b[0mrun\u001b[0m\u001b[0;34m(\u001b[0m\u001b[0mconfig\u001b[0m\u001b[0;34m,\u001b[0m \u001b[0mcallback\u001b[0m\u001b[0;34m=\u001b[0m\u001b[0;32mNone\u001b[0m\u001b[0;34m)\u001b[0m\u001b[0;34m:\u001b[0m\u001b[0;34m\u001b[0m\u001b[0;34m\u001b[0m\u001b[0m\n\u001b[1;32m    212\u001b[0m     \u001b[0mlogme\u001b[0m\u001b[0;34m.\u001b[0m\u001b[0mdebug\u001b[0m\u001b[0;34m(\u001b[0m\u001b[0m__name__\u001b[0m\u001b[0;34m+\u001b[0m\u001b[0;34m':run'\u001b[0m\u001b[0;34m)\u001b[0m\u001b[0;34m\u001b[0m\u001b[0;34m\u001b[0m\u001b[0m\n\u001b[0;32m--> 213\u001b[0;31m     \u001b[0mget_event_loop\u001b[0m\u001b[0;34m(\u001b[0m\u001b[0;34m)\u001b[0m\u001b[0;34m.\u001b[0m\u001b[0mrun_until_complete\u001b[0m\u001b[0;34m(\u001b[0m\u001b[0mTwint\u001b[0m\u001b[0;34m(\u001b[0m\u001b[0mconfig\u001b[0m\u001b[0;34m)\u001b[0m\u001b[0;34m.\u001b[0m\u001b[0mmain\u001b[0m\u001b[0;34m(\u001b[0m\u001b[0mcallback\u001b[0m\u001b[0;34m)\u001b[0m\u001b[0;34m)\u001b[0m\u001b[0;34m\u001b[0m\u001b[0;34m\u001b[0m\u001b[0m\n\u001b[0m\u001b[1;32m    214\u001b[0m \u001b[0;34m\u001b[0m\u001b[0m\n\u001b[1;32m    215\u001b[0m \u001b[0;32mdef\u001b[0m \u001b[0mFavorites\u001b[0m\u001b[0;34m(\u001b[0m\u001b[0mconfig\u001b[0m\u001b[0;34m)\u001b[0m\u001b[0;34m:\u001b[0m\u001b[0;34m\u001b[0m\u001b[0;34m\u001b[0m\u001b[0m\n",
      "\u001b[0;32m~/anaconda3/lib/python3.7/site-packages/nest_asyncio.py\u001b[0m in \u001b[0;36mrun_until_complete\u001b[0;34m(self, future)\u001b[0m\n\u001b[1;32m     58\u001b[0m                 \u001b[0mf\u001b[0m\u001b[0;34m.\u001b[0m\u001b[0m_log_destroy_pending\u001b[0m \u001b[0;34m=\u001b[0m \u001b[0;32mFalse\u001b[0m\u001b[0;34m\u001b[0m\u001b[0;34m\u001b[0m\u001b[0m\n\u001b[1;32m     59\u001b[0m             \u001b[0;32mwhile\u001b[0m \u001b[0;32mnot\u001b[0m \u001b[0mf\u001b[0m\u001b[0;34m.\u001b[0m\u001b[0mdone\u001b[0m\u001b[0;34m(\u001b[0m\u001b[0;34m)\u001b[0m\u001b[0;34m:\u001b[0m\u001b[0;34m\u001b[0m\u001b[0;34m\u001b[0m\u001b[0m\n\u001b[0;32m---> 60\u001b[0;31m                 \u001b[0mrun_once\u001b[0m\u001b[0;34m(\u001b[0m\u001b[0mself\u001b[0m\u001b[0;34m)\u001b[0m\u001b[0;34m\u001b[0m\u001b[0;34m\u001b[0m\u001b[0m\n\u001b[0m\u001b[1;32m     61\u001b[0m             \u001b[0;32mreturn\u001b[0m \u001b[0mf\u001b[0m\u001b[0;34m.\u001b[0m\u001b[0mresult\u001b[0m\u001b[0;34m(\u001b[0m\u001b[0;34m)\u001b[0m\u001b[0;34m\u001b[0m\u001b[0;34m\u001b[0m\u001b[0m\n\u001b[1;32m     62\u001b[0m         \u001b[0;32melse\u001b[0m\u001b[0;34m:\u001b[0m\u001b[0;34m\u001b[0m\u001b[0;34m\u001b[0m\u001b[0m\n",
      "\u001b[0;32m~/anaconda3/lib/python3.7/site-packages/nest_asyncio.py\u001b[0m in \u001b[0;36mrun_once\u001b[0;34m(self)\u001b[0m\n\u001b[1;32m    107\u001b[0m             \u001b[0;32mif\u001b[0m \u001b[0mhandle\u001b[0m\u001b[0;34m.\u001b[0m\u001b[0m_cancelled\u001b[0m\u001b[0;34m:\u001b[0m\u001b[0;34m\u001b[0m\u001b[0;34m\u001b[0m\u001b[0m\n\u001b[1;32m    108\u001b[0m                 \u001b[0;32mcontinue\u001b[0m\u001b[0;34m\u001b[0m\u001b[0;34m\u001b[0m\u001b[0m\n\u001b[0;32m--> 109\u001b[0;31m             \u001b[0mhandle\u001b[0m\u001b[0;34m.\u001b[0m\u001b[0m_run\u001b[0m\u001b[0;34m(\u001b[0m\u001b[0;34m)\u001b[0m\u001b[0;34m\u001b[0m\u001b[0;34m\u001b[0m\u001b[0m\n\u001b[0m\u001b[1;32m    110\u001b[0m         \u001b[0mhandle\u001b[0m \u001b[0;34m=\u001b[0m \u001b[0;32mNone\u001b[0m\u001b[0;34m\u001b[0m\u001b[0;34m\u001b[0m\u001b[0m\n\u001b[1;32m    111\u001b[0m         \u001b[0mself\u001b[0m\u001b[0;34m.\u001b[0m\u001b[0m_nesting_level\u001b[0m \u001b[0;34m-=\u001b[0m \u001b[0;36m1\u001b[0m\u001b[0;34m\u001b[0m\u001b[0;34m\u001b[0m\u001b[0m\n",
      "\u001b[0;32m~/anaconda3/lib/python3.7/site-packages/nest_asyncio.py\u001b[0m in \u001b[0;36mrun\u001b[0;34m(self)\u001b[0m\n\u001b[1;32m    162\u001b[0m         \u001b[0;32mtry\u001b[0m\u001b[0;34m:\u001b[0m\u001b[0;34m\u001b[0m\u001b[0;34m\u001b[0m\u001b[0m\n\u001b[1;32m    163\u001b[0m             \u001b[0mctx\u001b[0m \u001b[0;34m=\u001b[0m \u001b[0mself\u001b[0m\u001b[0;34m.\u001b[0m\u001b[0m_context\u001b[0m\u001b[0;34m.\u001b[0m\u001b[0mcopy\u001b[0m\u001b[0;34m(\u001b[0m\u001b[0;34m)\u001b[0m\u001b[0;34m\u001b[0m\u001b[0;34m\u001b[0m\u001b[0m\n\u001b[0;32m--> 164\u001b[0;31m             \u001b[0mctx\u001b[0m\u001b[0;34m.\u001b[0m\u001b[0mrun\u001b[0m\u001b[0;34m(\u001b[0m\u001b[0mself\u001b[0m\u001b[0;34m.\u001b[0m\u001b[0m_callback\u001b[0m\u001b[0;34m,\u001b[0m \u001b[0;34m*\u001b[0m\u001b[0mself\u001b[0m\u001b[0;34m.\u001b[0m\u001b[0m_args\u001b[0m\u001b[0;34m)\u001b[0m\u001b[0;34m\u001b[0m\u001b[0;34m\u001b[0m\u001b[0m\n\u001b[0m\u001b[1;32m    165\u001b[0m         \u001b[0;32mexcept\u001b[0m \u001b[0mException\u001b[0m \u001b[0;32mas\u001b[0m \u001b[0mexc\u001b[0m\u001b[0;34m:\u001b[0m\u001b[0;34m\u001b[0m\u001b[0;34m\u001b[0m\u001b[0m\n\u001b[1;32m    166\u001b[0m             cb = format_helpers._format_callback_source(\n",
      "\u001b[0;32m~/anaconda3/lib/python3.7/asyncio/tasks.py\u001b[0m in \u001b[0;36m__wakeup\u001b[0;34m(self, future)\u001b[0m\n\u001b[1;32m    301\u001b[0m             \u001b[0;31m# instead of `__next__()`, which is slower for futures\u001b[0m\u001b[0;34m\u001b[0m\u001b[0;34m\u001b[0m\u001b[0;34m\u001b[0m\u001b[0m\n\u001b[1;32m    302\u001b[0m             \u001b[0;31m# that return non-generator iterators from their `__iter__`.\u001b[0m\u001b[0;34m\u001b[0m\u001b[0;34m\u001b[0m\u001b[0;34m\u001b[0m\u001b[0m\n\u001b[0;32m--> 303\u001b[0;31m             \u001b[0mself\u001b[0m\u001b[0;34m.\u001b[0m\u001b[0m__step\u001b[0m\u001b[0;34m(\u001b[0m\u001b[0;34m)\u001b[0m\u001b[0;34m\u001b[0m\u001b[0;34m\u001b[0m\u001b[0m\n\u001b[0m\u001b[1;32m    304\u001b[0m         \u001b[0mself\u001b[0m \u001b[0;34m=\u001b[0m \u001b[0;32mNone\u001b[0m  \u001b[0;31m# Needed to break cycles when an exception occurs.\u001b[0m\u001b[0;34m\u001b[0m\u001b[0;34m\u001b[0m\u001b[0m\n\u001b[1;32m    305\u001b[0m \u001b[0;34m\u001b[0m\u001b[0m\n",
      "\u001b[0;32m~/anaconda3/lib/python3.7/site-packages/nest_asyncio.py\u001b[0m in \u001b[0;36mstep\u001b[0;34m(task, exc)\u001b[0m\n\u001b[1;32m    128\u001b[0m         \u001b[0mcurr_task\u001b[0m \u001b[0;34m=\u001b[0m \u001b[0mcurr_tasks\u001b[0m\u001b[0;34m.\u001b[0m\u001b[0mget\u001b[0m\u001b[0;34m(\u001b[0m\u001b[0mtask\u001b[0m\u001b[0;34m.\u001b[0m\u001b[0m_loop\u001b[0m\u001b[0;34m)\u001b[0m\u001b[0;34m\u001b[0m\u001b[0;34m\u001b[0m\u001b[0m\n\u001b[1;32m    129\u001b[0m         \u001b[0;32mtry\u001b[0m\u001b[0;34m:\u001b[0m\u001b[0;34m\u001b[0m\u001b[0;34m\u001b[0m\u001b[0m\n\u001b[0;32m--> 130\u001b[0;31m             \u001b[0mstep_orig\u001b[0m\u001b[0;34m(\u001b[0m\u001b[0mtask\u001b[0m\u001b[0;34m,\u001b[0m \u001b[0mexc\u001b[0m\u001b[0;34m)\u001b[0m\u001b[0;34m\u001b[0m\u001b[0;34m\u001b[0m\u001b[0m\n\u001b[0m\u001b[1;32m    131\u001b[0m         \u001b[0;32mfinally\u001b[0m\u001b[0;34m:\u001b[0m\u001b[0;34m\u001b[0m\u001b[0;34m\u001b[0m\u001b[0m\n\u001b[1;32m    132\u001b[0m             \u001b[0;32mif\u001b[0m \u001b[0mcurr_task\u001b[0m \u001b[0;32mis\u001b[0m \u001b[0;32mNone\u001b[0m\u001b[0;34m:\u001b[0m\u001b[0;34m\u001b[0m\u001b[0;34m\u001b[0m\u001b[0m\n",
      "\u001b[0;32m~/anaconda3/lib/python3.7/asyncio/tasks.py\u001b[0m in \u001b[0;36m__step\u001b[0;34m(***failed resolving arguments***)\u001b[0m\n\u001b[1;32m    221\u001b[0m                 \u001b[0;31m# We use the `send` method directly, because coroutines\u001b[0m\u001b[0;34m\u001b[0m\u001b[0;34m\u001b[0m\u001b[0;34m\u001b[0m\u001b[0m\n\u001b[1;32m    222\u001b[0m                 \u001b[0;31m# don't have `__iter__` and `__next__` methods.\u001b[0m\u001b[0;34m\u001b[0m\u001b[0;34m\u001b[0m\u001b[0;34m\u001b[0m\u001b[0m\n\u001b[0;32m--> 223\u001b[0;31m                 \u001b[0mresult\u001b[0m \u001b[0;34m=\u001b[0m \u001b[0mcoro\u001b[0m\u001b[0;34m.\u001b[0m\u001b[0msend\u001b[0m\u001b[0;34m(\u001b[0m\u001b[0;32mNone\u001b[0m\u001b[0;34m)\u001b[0m\u001b[0;34m\u001b[0m\u001b[0;34m\u001b[0m\u001b[0m\n\u001b[0m\u001b[1;32m    224\u001b[0m             \u001b[0;32melse\u001b[0m\u001b[0;34m:\u001b[0m\u001b[0;34m\u001b[0m\u001b[0;34m\u001b[0m\u001b[0m\n\u001b[1;32m    225\u001b[0m                 \u001b[0mresult\u001b[0m \u001b[0;34m=\u001b[0m \u001b[0mcoro\u001b[0m\u001b[0;34m.\u001b[0m\u001b[0mthrow\u001b[0m\u001b[0;34m(\u001b[0m\u001b[0mexc\u001b[0m\u001b[0;34m)\u001b[0m\u001b[0;34m\u001b[0m\u001b[0;34m\u001b[0m\u001b[0m\n",
      "\u001b[0;32m~/src/twint/twint/run.py\u001b[0m in \u001b[0;36mrun\u001b[0;34m(self)\u001b[0m\n\u001b[1;32m    172\u001b[0m                 \u001b[0mself\u001b[0m\u001b[0;34m.\u001b[0m\u001b[0mconfig\u001b[0m\u001b[0;34m.\u001b[0m\u001b[0mUntil\u001b[0m \u001b[0;34m=\u001b[0m \u001b[0mstr\u001b[0m\u001b[0;34m(\u001b[0m\u001b[0mself\u001b[0m\u001b[0;34m.\u001b[0m\u001b[0md\u001b[0m\u001b[0;34m.\u001b[0m\u001b[0m_until\u001b[0m\u001b[0;34m)\u001b[0m\u001b[0;34m\u001b[0m\u001b[0;34m\u001b[0m\u001b[0m\n\u001b[1;32m    173\u001b[0m                 \u001b[0;32mif\u001b[0m \u001b[0mlen\u001b[0m\u001b[0;34m(\u001b[0m\u001b[0mself\u001b[0m\u001b[0;34m.\u001b[0m\u001b[0mfeed\u001b[0m\u001b[0;34m)\u001b[0m \u001b[0;34m>\u001b[0m \u001b[0;36m0\u001b[0m\u001b[0;34m:\u001b[0m\u001b[0;34m\u001b[0m\u001b[0;34m\u001b[0m\u001b[0m\n\u001b[0;32m--> 174\u001b[0;31m                     \u001b[0;32mawait\u001b[0m \u001b[0mself\u001b[0m\u001b[0;34m.\u001b[0m\u001b[0mtweets\u001b[0m\u001b[0;34m(\u001b[0m\u001b[0;34m)\u001b[0m\u001b[0;34m\u001b[0m\u001b[0;34m\u001b[0m\u001b[0m\n\u001b[0m\u001b[1;32m    175\u001b[0m                 \u001b[0;32melse\u001b[0m\u001b[0;34m:\u001b[0m\u001b[0;34m\u001b[0m\u001b[0;34m\u001b[0m\u001b[0m\n\u001b[1;32m    176\u001b[0m                     \u001b[0mlogme\u001b[0m\u001b[0;34m.\u001b[0m\u001b[0mdebug\u001b[0m\u001b[0;34m(\u001b[0m\u001b[0m__name__\u001b[0m\u001b[0;34m+\u001b[0m\u001b[0;34m':Twint:main:gettingNewTweets'\u001b[0m\u001b[0;34m)\u001b[0m\u001b[0;34m\u001b[0m\u001b[0;34m\u001b[0m\u001b[0m\n",
      "\u001b[0;32m~/src/twint/twint/run.py\u001b[0m in \u001b[0;36mtweets\u001b[0;34m(self)\u001b[0m\n\u001b[1;32m    143\u001b[0m             \u001b[0;32mfor\u001b[0m \u001b[0mtweet\u001b[0m \u001b[0;32min\u001b[0m \u001b[0mself\u001b[0m\u001b[0;34m.\u001b[0m\u001b[0mfeed\u001b[0m\u001b[0;34m:\u001b[0m\u001b[0;34m\u001b[0m\u001b[0;34m\u001b[0m\u001b[0m\n\u001b[1;32m    144\u001b[0m                 \u001b[0mself\u001b[0m\u001b[0;34m.\u001b[0m\u001b[0mcount\u001b[0m \u001b[0;34m+=\u001b[0m \u001b[0;36m1\u001b[0m\u001b[0;34m\u001b[0m\u001b[0;34m\u001b[0m\u001b[0m\n\u001b[0;32m--> 145\u001b[0;31m                 \u001b[0;32mawait\u001b[0m \u001b[0moutput\u001b[0m\u001b[0;34m.\u001b[0m\u001b[0mTweets\u001b[0m\u001b[0;34m(\u001b[0m\u001b[0mtweet\u001b[0m\u001b[0;34m,\u001b[0m \u001b[0mself\u001b[0m\u001b[0;34m.\u001b[0m\u001b[0mconfig\u001b[0m\u001b[0;34m,\u001b[0m \u001b[0mself\u001b[0m\u001b[0;34m.\u001b[0m\u001b[0mconn\u001b[0m\u001b[0;34m)\u001b[0m\u001b[0;34m\u001b[0m\u001b[0;34m\u001b[0m\u001b[0m\n\u001b[0m\u001b[1;32m    146\u001b[0m \u001b[0;34m\u001b[0m\u001b[0m\n\u001b[1;32m    147\u001b[0m     \u001b[0;32masync\u001b[0m \u001b[0;32mdef\u001b[0m \u001b[0mmain\u001b[0m\u001b[0;34m(\u001b[0m\u001b[0mself\u001b[0m\u001b[0;34m,\u001b[0m \u001b[0mcallback\u001b[0m\u001b[0;34m=\u001b[0m\u001b[0;32mNone\u001b[0m\u001b[0;34m)\u001b[0m\u001b[0;34m:\u001b[0m\u001b[0;34m\u001b[0m\u001b[0;34m\u001b[0m\u001b[0m\n",
      "\u001b[0;32m~/src/twint/twint/output.py\u001b[0m in \u001b[0;36mTweets\u001b[0;34m(tweets, config, conn, url)\u001b[0m\n\u001b[1;32m    144\u001b[0m     \u001b[0;32melif\u001b[0m \u001b[0mconfig\u001b[0m\u001b[0;34m.\u001b[0m\u001b[0mTwitterSearch\u001b[0m\u001b[0;34m:\u001b[0m\u001b[0;34m\u001b[0m\u001b[0;34m\u001b[0m\u001b[0m\n\u001b[1;32m    145\u001b[0m         \u001b[0mlogme\u001b[0m\u001b[0;34m.\u001b[0m\u001b[0mdebug\u001b[0m\u001b[0;34m(\u001b[0m\u001b[0m__name__\u001b[0m\u001b[0;34m+\u001b[0m\u001b[0;34m':Tweets:TwitterSearch'\u001b[0m\u001b[0;34m)\u001b[0m\u001b[0;34m\u001b[0m\u001b[0;34m\u001b[0m\u001b[0m\n\u001b[0;32m--> 146\u001b[0;31m         \u001b[0;32mawait\u001b[0m \u001b[0mcheckData\u001b[0m\u001b[0;34m(\u001b[0m\u001b[0mtweets\u001b[0m\u001b[0;34m,\u001b[0m \u001b[0mconfig\u001b[0m\u001b[0;34m,\u001b[0m \u001b[0mconn\u001b[0m\u001b[0;34m)\u001b[0m\u001b[0;34m\u001b[0m\u001b[0;34m\u001b[0m\u001b[0m\n\u001b[0m\u001b[1;32m    147\u001b[0m     \u001b[0;32melse\u001b[0m\u001b[0;34m:\u001b[0m\u001b[0;34m\u001b[0m\u001b[0;34m\u001b[0m\u001b[0m\n\u001b[1;32m    148\u001b[0m         \u001b[0mlogme\u001b[0m\u001b[0;34m.\u001b[0m\u001b[0mdebug\u001b[0m\u001b[0;34m(\u001b[0m\u001b[0m__name__\u001b[0m\u001b[0;34m+\u001b[0m\u001b[0;34m':Tweets:else'\u001b[0m\u001b[0;34m)\u001b[0m\u001b[0;34m\u001b[0m\u001b[0;34m\u001b[0m\u001b[0m\n",
      "\u001b[0;32m~/src/twint/twint/output.py\u001b[0m in \u001b[0;36mcheckData\u001b[0;34m(tweet, config, conn)\u001b[0m\n\u001b[1;32m     98\u001b[0m     \u001b[0mcopyright\u001b[0m \u001b[0;34m=\u001b[0m \u001b[0mtweet\u001b[0m\u001b[0;34m.\u001b[0m\u001b[0mfind\u001b[0m\u001b[0;34m(\u001b[0m\u001b[0;34m\"div\"\u001b[0m\u001b[0;34m,\u001b[0m \u001b[0;34m\"StreamItemContent--withheld\"\u001b[0m\u001b[0;34m)\u001b[0m\u001b[0;34m\u001b[0m\u001b[0;34m\u001b[0m\u001b[0m\n\u001b[1;32m     99\u001b[0m     \u001b[0;32mif\u001b[0m \u001b[0mcopyright\u001b[0m \u001b[0;32mis\u001b[0m \u001b[0;32mNone\u001b[0m \u001b[0;32mand\u001b[0m \u001b[0mis_tweet\u001b[0m\u001b[0;34m(\u001b[0m\u001b[0mtweet\u001b[0m\u001b[0;34m)\u001b[0m\u001b[0;34m:\u001b[0m\u001b[0;34m\u001b[0m\u001b[0;34m\u001b[0m\u001b[0m\n\u001b[0;32m--> 100\u001b[0;31m         \u001b[0mtweet\u001b[0m \u001b[0;34m=\u001b[0m \u001b[0mTweet\u001b[0m\u001b[0;34m(\u001b[0m\u001b[0mtweet\u001b[0m\u001b[0;34m,\u001b[0m \u001b[0mconfig\u001b[0m\u001b[0;34m)\u001b[0m\u001b[0;34m\u001b[0m\u001b[0;34m\u001b[0m\u001b[0m\n\u001b[0m\u001b[1;32m    101\u001b[0m \u001b[0;34m\u001b[0m\u001b[0m\n\u001b[1;32m    102\u001b[0m         \u001b[0;32mif\u001b[0m \u001b[0;32mnot\u001b[0m \u001b[0mtweet\u001b[0m\u001b[0;34m.\u001b[0m\u001b[0mdatestamp\u001b[0m\u001b[0;34m:\u001b[0m\u001b[0;34m\u001b[0m\u001b[0;34m\u001b[0m\u001b[0m\n",
      "\u001b[0;32m~/src/twint/twint/tweet.py\u001b[0m in \u001b[0;36mTweet\u001b[0;34m(tw, config)\u001b[0m\n\u001b[1;32m     78\u001b[0m     \u001b[0mt\u001b[0m\u001b[0;34m.\u001b[0m\u001b[0mname\u001b[0m \u001b[0;34m=\u001b[0m \u001b[0mtw\u001b[0m\u001b[0;34m[\u001b[0m\u001b[0;34m\"data-name\"\u001b[0m\u001b[0;34m]\u001b[0m\u001b[0;34m\u001b[0m\u001b[0;34m\u001b[0m\u001b[0m\n\u001b[1;32m     79\u001b[0m     \u001b[0mt\u001b[0m\u001b[0;34m.\u001b[0m\u001b[0mplace\u001b[0m \u001b[0;34m=\u001b[0m \u001b[0mtw\u001b[0m\u001b[0;34m.\u001b[0m\u001b[0mfind\u001b[0m\u001b[0;34m(\u001b[0m\u001b[0;34m\"a\"\u001b[0m\u001b[0;34m,\u001b[0m\u001b[0;34m\"js-geo-pivot-link\"\u001b[0m\u001b[0;34m)\u001b[0m\u001b[0;34m.\u001b[0m\u001b[0mtext\u001b[0m\u001b[0;34m.\u001b[0m\u001b[0mstrip\u001b[0m\u001b[0;34m(\u001b[0m\u001b[0;34m)\u001b[0m \u001b[0;32mif\u001b[0m \u001b[0mtw\u001b[0m\u001b[0;34m.\u001b[0m\u001b[0mfind\u001b[0m\u001b[0;34m(\u001b[0m\u001b[0;34m\"a\"\u001b[0m\u001b[0;34m,\u001b[0m\u001b[0;34m\"js-geo-pivot-link\"\u001b[0m\u001b[0;34m)\u001b[0m \u001b[0;32melse\u001b[0m \u001b[0;34m\"\"\u001b[0m\u001b[0;34m\u001b[0m\u001b[0;34m\u001b[0m\u001b[0m\n\u001b[0;32m---> 80\u001b[0;31m     \u001b[0mt\u001b[0m\u001b[0;34m.\u001b[0m\u001b[0mtimezone\u001b[0m \u001b[0;34m=\u001b[0m \u001b[0mstrftime\u001b[0m\u001b[0;34m(\u001b[0m\u001b[0;34m\"%Z\"\u001b[0m\u001b[0;34m,\u001b[0m \u001b[0mlocaltime\u001b[0m\u001b[0;34m(\u001b[0m\u001b[0;34m)\u001b[0m\u001b[0;34m)\u001b[0m\u001b[0;34m\u001b[0m\u001b[0;34m\u001b[0m\u001b[0m\n\u001b[0m\u001b[1;32m     81\u001b[0m     \u001b[0;32mfor\u001b[0m \u001b[0mimg\u001b[0m \u001b[0;32min\u001b[0m \u001b[0mtw\u001b[0m\u001b[0;34m.\u001b[0m\u001b[0mfindAll\u001b[0m\u001b[0;34m(\u001b[0m\u001b[0;34m\"img\"\u001b[0m\u001b[0;34m,\u001b[0m \u001b[0;34m\"Emoji Emoji--forText\"\u001b[0m\u001b[0;34m)\u001b[0m\u001b[0;34m:\u001b[0m\u001b[0;34m\u001b[0m\u001b[0;34m\u001b[0m\u001b[0m\n\u001b[1;32m     82\u001b[0m         \u001b[0mimg\u001b[0m\u001b[0;34m.\u001b[0m\u001b[0mreplaceWith\u001b[0m\u001b[0;34m(\u001b[0m\u001b[0mimg\u001b[0m\u001b[0;34m[\u001b[0m\u001b[0;34m\"alt\"\u001b[0m\u001b[0;34m]\u001b[0m\u001b[0;34m)\u001b[0m\u001b[0;34m\u001b[0m\u001b[0;34m\u001b[0m\u001b[0m\n",
      "\u001b[0;31mKeyboardInterrupt\u001b[0m: "
     ]
    },
    {
     "name": "stderr",
     "output_type": "stream",
     "text": [
      "ERROR:root:Invalid alias: The name clear can't be aliased because it is another magic command.\n",
      "ERROR:root:Invalid alias: The name more can't be aliased because it is another magic command.\n",
      "ERROR:root:Invalid alias: The name less can't be aliased because it is another magic command.\n",
      "ERROR:root:Invalid alias: The name man can't be aliased because it is another magic command.\n"
     ]
    }
   ],
   "source": [
    "get_tweets(\"tesla\")"
   ]
  },
  {
   "cell_type": "code",
   "execution_count": null,
   "metadata": {},
   "outputs": [],
   "source": []
  },
  {
   "cell_type": "code",
   "execution_count": null,
   "metadata": {},
   "outputs": [],
   "source": []
  },
  {
   "cell_type": "code",
   "execution_count": null,
   "metadata": {},
   "outputs": [],
   "source": []
  },
  {
   "cell_type": "code",
   "execution_count": null,
   "metadata": {},
   "outputs": [],
   "source": []
  },
  {
   "cell_type": "code",
   "execution_count": null,
   "metadata": {},
   "outputs": [],
   "source": [
    "c = twint.Config()\n",
    "c.Search = \"tesla\"\n",
    "#c.Limit = 10\n",
    "c.Lang = 'en'\n",
    "c.Timedelta = 1\n",
    "\n",
    "twint.run.Search(c)"
   ]
  },
  {
   "cell_type": "code",
   "execution_count": null,
   "metadata": {},
   "outputs": [],
   "source": [
    "\n",
    "c = twint.Config()\n",
    "c.Search = 'tesla'\n",
    "c.Lang = 'en'\n",
    "c.Pandas = True\n",
    "c.Limit = 5\n",
    "c. Filter_retweets = True\n",
    "c.Get_replies = False\n",
    "c.Custom['tweet'] = ['id', 'date', 'time', 'username', 'tweet']\n",
    "\n",
    "twint.run.Search(c)\n",
    "\n",
    "Tweets_df = twint.storage.panda.Tweets_df"
   ]
  },
  {
   "cell_type": "code",
   "execution_count": null,
   "metadata": {},
   "outputs": [],
   "source": [
    "import pandas as pd\n",
    "pd.set_option('display.max_columns', 100) \n",
    "[[Tweets_df['tweet']]]"
   ]
  },
  {
   "cell_type": "code",
   "execution_count": null,
   "metadata": {},
   "outputs": [],
   "source": []
  },
  {
   "cell_type": "code",
   "execution_count": null,
   "metadata": {},
   "outputs": [],
   "source": []
  },
  {
   "cell_type": "code",
   "execution_count": null,
   "metadata": {},
   "outputs": [],
   "source": [
    "c = twint.Config()\n",
    "c.Search = \"tesla\"\n",
    "c.Lang = 'en'\n",
    "c.Limit = 10\n",
    "c.Store_csv = True\n",
    "c.Custom['tweet'] = ['id', 'date', 'time', 'username', 'tweet']\n",
    "#c.Custom['tweet'] = [\"Tweet id: {id} | Date: {date} | Time: {time} | Username:{username} | Tweet: {tweet}\"]\n",
    "c.Output ='tweets'\n",
    "twint.run.Search(c)"
   ]
  },
  {
   "cell_type": "code",
   "execution_count": null,
   "metadata": {},
   "outputs": [],
   "source": [
    "def get_tweets(start_date, end_date, company_name, company_ticker):\n",
    "    c = twint.Config()\n",
    "    c.Search = company_name, company_ticker\n",
    "    c.Since = start_date\n",
    "    c.Until = end_date\n",
    "    c.Store_csv = True\n",
    "    c.Lang = 'en'\n",
    "    c.Count = True\n",
    "    c.Show_hangtags = True\n",
    "    c.Format = \"Tweet id: {id} | Date: {date} | Time: {time} | Tweet: {tweet}\"\n",
    "    c.Custom['tweet'] = ['id', 'date', 'time', 'tweet']\n",
    "    twint.run.Search(c) \n",
    "    c.Output = 'tesla_tweets'"
   ]
  },
  {
   "cell_type": "code",
   "execution_count": null,
   "metadata": {},
   "outputs": [],
   "source": [
    "get_tweets('2019-08-12', '2019-08-13', 'tesla', 'tsla')"
   ]
  },
  {
   "cell_type": "code",
   "execution_count": null,
   "metadata": {},
   "outputs": [],
   "source": []
  },
  {
   "cell_type": "code",
   "execution_count": null,
   "metadata": {},
   "outputs": [],
   "source": [
    "c = twint.Config()\n",
    "\n",
    "c.Search = \"tesla\"\n",
    "#c.Custom[\"tweet\"] = [\"id\"]\n",
    "#c.Custom[\"user\"] = [\"bio\"]\n",
    "c.Limit = 10\n",
    "c.Store_csv = True\n",
    "#c.Custom['id'] = ['id']\n",
    "c.Custom['date'] = ['date']\n",
    "c.Custom['time'] = ['time']\n",
    "c.Custom['username'] = ['username']\n",
    "c.Custom['id', 'tweet'] = ['id', 'tweet']\n",
    "c.Output = \"none\"\n",
    "\n",
    "twint.run.Search(c)"
   ]
  },
  {
   "cell_type": "code",
   "execution_count": null,
   "metadata": {},
   "outputs": [],
   "source": []
  },
  {
   "cell_type": "code",
   "execution_count": null,
   "metadata": {},
   "outputs": [],
   "source": [
    "def get_tweets(start_date, end_date, company_name, company_ticker):\n",
    "    c = twint.Config()\n",
    "    c.Search = company_name, company_ticker\n",
    "    c.Since = start_date\n",
    "    c.Until = end_date\n",
    "    c.Store_csv = True\n",
    "    c.Lang = 'en'\n",
    "    c.Count = True\n",
    "    c.Format = \"Tweet id: {id} | Date: {date} | Time: {time} | Tweet: {tweet}\"\n",
    "    c.Custom['tweet'] = ['id', 'date', 'time', 'tweet']\n",
    "    twint.run.Search(c) \n",
    "    c.Output = 'tesla_tweets'"
   ]
  },
  {
   "cell_type": "code",
   "execution_count": null,
   "metadata": {},
   "outputs": [],
   "source": [
    "\n",
    "\n",
    "get_tweets('2019-08-12', '2019-08-13', 'tesla', 'tsla')"
   ]
  },
  {
   "cell_type": "code",
   "execution_count": null,
   "metadata": {},
   "outputs": [],
   "source": []
  },
  {
   "cell_type": "code",
   "execution_count": null,
   "metadata": {},
   "outputs": [],
   "source": [
    "c = twint.Config()\n",
    "c.Search = 'telsa'\n",
    "c.Since = '2019-08-12'\n",
    "c.Until = '2019-08-13'\n",
    "c.Store_csv = True\n",
    "#c.Pandas = True\n",
    "#c.Store_pandas = True\n",
    "c.Lang = 'en'\n",
    "c.Count = True\n",
    "c.Format = \"Tweet id: {id} | Date: {date} | Time: {time} | Username: {username} | Tweet: {tweet}\"\n",
    "c.Custom['id'] = ['id']\n",
    "c.Custom['date'] = ['date']\n",
    "c.Custom['time'] = ['time']\n",
    "c.Custom['username'] = ['username']\n",
    "c.Custom['tweet'] = ['tweet']\n",
    "twint.run.Search(c) \n",
    "c.Output = 'tesla_tweets'\n"
   ]
  },
  {
   "cell_type": "code",
   "execution_count": null,
   "metadata": {},
   "outputs": [],
   "source": [
    "tesla_tweets.head()"
   ]
  },
  {
   "cell_type": "code",
   "execution_count": null,
   "metadata": {},
   "outputs": [],
   "source": []
  },
  {
   "cell_type": "code",
   "execution_count": null,
   "metadata": {},
   "outputs": [],
   "source": []
  },
  {
   "cell_type": "code",
   "execution_count": null,
   "metadata": {},
   "outputs": [],
   "source": [
    "def get_tweets(start_date, end_date, company_name, company_ticker):\n",
    "    c = twint.Config()\n",
    "    c.Search = company_name, company_ticker\n",
    "    c.Since = start_date\n",
    "    c.Until = end_date\n",
    "    c.Store_csv = True\n",
    "    c.Lang = 'en'\n",
    "    c.Count = True\n",
    "    c.Format = \"Tweet id: {id} | Date: {date} | Time: {time} | Tweet: {tweet}\"\n",
    "    c.Custom['tweet'] = ['id', 'date', 'time', 'tweet']\n",
    "    twint.run.Search(c) \n",
    "    c.Output = 'tesla_tweets'"
   ]
  }
 ],
 "metadata": {
  "kernelspec": {
   "display_name": "Python 3",
   "language": "python",
   "name": "python3"
  },
  "language_info": {
   "codemirror_mode": {
    "name": "ipython",
    "version": 3
   },
   "file_extension": ".py",
   "mimetype": "text/x-python",
   "name": "python",
   "nbconvert_exporter": "python",
   "pygments_lexer": "ipython3",
   "version": "3.7.3"
  }
 },
 "nbformat": 4,
 "nbformat_minor": 2
}
