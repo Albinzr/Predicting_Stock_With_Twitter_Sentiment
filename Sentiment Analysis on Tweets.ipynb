{
 "cells": [
  {
   "cell_type": "code",
   "execution_count": 195,
   "metadata": {},
   "outputs": [],
   "source": [
    "# Import necessary libraries\n",
    "\n",
    "import pandas as pd\n",
    "import nltk\n",
    "#nltk.download('vader_lexicon')\n",
    "from nltk.sentiment.vader import SentimentIntensityAnalyzer\n",
    "sia = SentimentIntensityAnalyzer()\n",
    "import re\n",
    "from textblob import TextBlob\n",
    "import matplotlib.pyplot as plt\n",
    "%matplotlib inline\n",
    "import seaborn as sns\n",
    "from sklearn.preprocessing import MinMaxScaler"
   ]
  },
  {
   "cell_type": "code",
   "execution_count": 196,
   "metadata": {
    "scrolled": true
   },
   "outputs": [
    {
     "data": {
      "text/html": [
       "<div>\n",
       "<style scoped>\n",
       "    .dataframe tbody tr th:only-of-type {\n",
       "        vertical-align: middle;\n",
       "    }\n",
       "\n",
       "    .dataframe tbody tr th {\n",
       "        vertical-align: top;\n",
       "    }\n",
       "\n",
       "    .dataframe thead th {\n",
       "        text-align: right;\n",
       "    }\n",
       "</style>\n",
       "<table border=\"1\" class=\"dataframe\">\n",
       "  <thead>\n",
       "    <tr style=\"text-align: right;\">\n",
       "      <th></th>\n",
       "      <th>id</th>\n",
       "      <th>tweet</th>\n",
       "      <th>date_time</th>\n",
       "      <th>clean_tweet</th>\n",
       "    </tr>\n",
       "  </thead>\n",
       "  <tbody>\n",
       "    <tr>\n",
       "      <th>0</th>\n",
       "      <td>947702253313495045</td>\n",
       "      <td>Tesla $TSLA Rating Increased to Hold at ValuEngine  http://ift.tt/2lzM80m</td>\n",
       "      <td>2018-01-01 00:33:19</td>\n",
       "      <td>rating increase hold valuengine</td>\n",
       "    </tr>\n",
       "    <tr>\n",
       "      <th>1</th>\n",
       "      <td>947702742264569857</td>\n",
       "      <td>Tesla $TSLA Rating Increased to Hold at ValuEngine  http://ift.tt/2CjAmm2</td>\n",
       "      <td>2018-01-01 00:35:15</td>\n",
       "      <td>rating increase hold valuengine</td>\n",
       "    </tr>\n",
       "    <tr>\n",
       "      <th>2</th>\n",
       "      <td>947709627394748416</td>\n",
       "      <td>Horseman Capital Management LTD Increases Position in Tesla INC (TSLA)  http://clicklancashire.com/2017/12/31/horseman-capital-management-ltd-increases-position-in-tesla.html …</td>\n",
       "      <td>2018-01-01 01:02:37</td>\n",
       "      <td>horseman capital management ltd increase position  inc</td>\n",
       "    </tr>\n",
       "    <tr>\n",
       "      <th>3</th>\n",
       "      <td>947712900377976832</td>\n",
       "      <td>Tesla INC (TSLA) Holding Lifted by Horseman Capital Management Ltd  http://newburghgazette.com/2017/12/31/tesla-inc-tsla-holding-lifted-by-horseman-capital/ …</td>\n",
       "      <td>2018-01-01 01:15:37</td>\n",
       "      <td>inc  hold lifted horseman capital management ltd</td>\n",
       "    </tr>\n",
       "    <tr>\n",
       "      <th>4</th>\n",
       "      <td>947732179253170177</td>\n",
       "      <td>Insider Selling: Tesla Inc (NASDAQ:TSLA) VP Sells 1,400 Shares of Stock  http://ift.tt/2lwCJqY</td>\n",
       "      <td>2018-01-01 02:32:14</td>\n",
       "      <td>insider sell  inc nasda  vp sell share stock</td>\n",
       "    </tr>\n",
       "  </tbody>\n",
       "</table>\n",
       "</div>"
      ],
      "text/plain": [
       "                   id  \\\n",
       "0  947702253313495045   \n",
       "1  947702742264569857   \n",
       "2  947709627394748416   \n",
       "3  947712900377976832   \n",
       "4  947732179253170177   \n",
       "\n",
       "                                                                                                                                                                              tweet  \\\n",
       "0                                                                                                        Tesla $TSLA Rating Increased to Hold at ValuEngine  http://ift.tt/2lzM80m    \n",
       "1                                                                                                        Tesla $TSLA Rating Increased to Hold at ValuEngine  http://ift.tt/2CjAmm2    \n",
       "2  Horseman Capital Management LTD Increases Position in Tesla INC (TSLA)  http://clicklancashire.com/2017/12/31/horseman-capital-management-ltd-increases-position-in-tesla.html …   \n",
       "3                    Tesla INC (TSLA) Holding Lifted by Horseman Capital Management Ltd  http://newburghgazette.com/2017/12/31/tesla-inc-tsla-holding-lifted-by-horseman-capital/ …   \n",
       "4                                                                                   Insider Selling: Tesla Inc (NASDAQ:TSLA) VP Sells 1,400 Shares of Stock  http://ift.tt/2lwCJqY    \n",
       "\n",
       "             date_time  \\\n",
       "0  2018-01-01 00:33:19   \n",
       "1  2018-01-01 00:35:15   \n",
       "2  2018-01-01 01:02:37   \n",
       "3  2018-01-01 01:15:37   \n",
       "4  2018-01-01 02:32:14   \n",
       "\n",
       "                                               clean_tweet  \n",
       "0                          rating increase hold valuengine  \n",
       "1                          rating increase hold valuengine  \n",
       "2  horseman capital management ltd increase position  inc   \n",
       "3         inc  hold lifted horseman capital management ltd  \n",
       "4             insider sell  inc nasda  vp sell share stock  "
      ]
     },
     "execution_count": 196,
     "metadata": {},
     "output_type": "execute_result"
    }
   ],
   "source": [
    "# Read in and preview 'cleaned_tweets.csv'\n",
    "\n",
    "tweets = pd.read_csv('cleaned_tweets.csv', engine='python').drop(['Unnamed: 0'],axis=1)\n",
    "tweets.head()"
   ]
  },
  {
   "cell_type": "code",
   "execution_count": 197,
   "metadata": {},
   "outputs": [
    {
     "name": "stdout",
     "output_type": "stream",
     "text": [
      "<class 'pandas.core.frame.DataFrame'>\n",
      "RangeIndex: 213213 entries, 0 to 213212\n",
      "Data columns (total 4 columns):\n",
      "id             213213 non-null object\n",
      "tweet          213213 non-null object\n",
      "date_time      213153 non-null object\n",
      "clean_tweet    212272 non-null object\n",
      "dtypes: object(4)\n",
      "memory usage: 6.5+ MB\n"
     ]
    }
   ],
   "source": [
    "# Look at tesla_tweets data types\n",
    "\n",
    "tweets.info()"
   ]
  },
  {
   "cell_type": "code",
   "execution_count": 198,
   "metadata": {},
   "outputs": [
    {
     "name": "stdout",
     "output_type": "stream",
     "text": [
      "<class 'pandas.core.frame.DataFrame'>\n",
      "RangeIndex: 213213 entries, 0 to 213212\n",
      "Data columns (total 4 columns):\n",
      "id             213213 non-null object\n",
      "tweet          213213 non-null object\n",
      "date_time      213153 non-null datetime64[ns]\n",
      "clean_tweet    212272 non-null object\n",
      "dtypes: datetime64[ns](1), object(3)\n",
      "memory usage: 6.5+ MB\n"
     ]
    }
   ],
   "source": [
    "# Convert date_time column into datetime stamp\n",
    "\n",
    "tweets.date_time = pd.to_datetime(tweets.date_time)\n",
    "tweets.info()"
   ]
  },
  {
   "cell_type": "code",
   "execution_count": 199,
   "metadata": {},
   "outputs": [
    {
     "data": {
      "text/plain": [
       "id               0\n",
       "tweet            0\n",
       "date_time       60\n",
       "clean_tweet    941\n",
       "dtype: int64"
      ]
     },
     "execution_count": 199,
     "metadata": {},
     "output_type": "execute_result"
    }
   ],
   "source": [
    "# Check for null values\n",
    "\n",
    "tweets.isnull().sum()"
   ]
  },
  {
   "cell_type": "code",
   "execution_count": 200,
   "metadata": {},
   "outputs": [],
   "source": [
    "# Drop null values\n",
    "\n",
    "tweets = tweets.dropna()"
   ]
  },
  {
   "cell_type": "markdown",
   "metadata": {},
   "source": [
    "## Compute Sentiment Score for Each Tweet"
   ]
  },
  {
   "cell_type": "markdown",
   "metadata": {},
   "source": [
    "### Calculate Sentiment Score with Vader"
   ]
  },
  {
   "cell_type": "code",
   "execution_count": 201,
   "metadata": {},
   "outputs": [
    {
     "data": {
      "text/html": [
       "<div>\n",
       "<style scoped>\n",
       "    .dataframe tbody tr th:only-of-type {\n",
       "        vertical-align: middle;\n",
       "    }\n",
       "\n",
       "    .dataframe tbody tr th {\n",
       "        vertical-align: top;\n",
       "    }\n",
       "\n",
       "    .dataframe thead th {\n",
       "        text-align: right;\n",
       "    }\n",
       "</style>\n",
       "<table border=\"1\" class=\"dataframe\">\n",
       "  <thead>\n",
       "    <tr style=\"text-align: right;\">\n",
       "      <th></th>\n",
       "      <th>id</th>\n",
       "      <th>tweet</th>\n",
       "      <th>date_time</th>\n",
       "      <th>clean_tweet</th>\n",
       "      <th>sentiment_1</th>\n",
       "    </tr>\n",
       "  </thead>\n",
       "  <tbody>\n",
       "    <tr>\n",
       "      <th>0</th>\n",
       "      <td>947702253313495045</td>\n",
       "      <td>Tesla $TSLA Rating Increased to Hold at ValuEngine  http://ift.tt/2lzM80m</td>\n",
       "      <td>2018-01-01 00:33:19</td>\n",
       "      <td>rating increase hold valuengine</td>\n",
       "      <td>0.3182</td>\n",
       "    </tr>\n",
       "    <tr>\n",
       "      <th>1</th>\n",
       "      <td>947702742264569857</td>\n",
       "      <td>Tesla $TSLA Rating Increased to Hold at ValuEngine  http://ift.tt/2CjAmm2</td>\n",
       "      <td>2018-01-01 00:35:15</td>\n",
       "      <td>rating increase hold valuengine</td>\n",
       "      <td>0.3182</td>\n",
       "    </tr>\n",
       "    <tr>\n",
       "      <th>2</th>\n",
       "      <td>947709627394748416</td>\n",
       "      <td>Horseman Capital Management LTD Increases Position in Tesla INC (TSLA)  http://clicklancashire.com/2017/12/31/horseman-capital-management-ltd-increases-position-in-tesla.html …</td>\n",
       "      <td>2018-01-01 01:02:37</td>\n",
       "      <td>horseman capital management ltd increase position  inc</td>\n",
       "      <td>0.3182</td>\n",
       "    </tr>\n",
       "    <tr>\n",
       "      <th>3</th>\n",
       "      <td>947712900377976832</td>\n",
       "      <td>Tesla INC (TSLA) Holding Lifted by Horseman Capital Management Ltd  http://newburghgazette.com/2017/12/31/tesla-inc-tsla-holding-lifted-by-horseman-capital/ …</td>\n",
       "      <td>2018-01-01 01:15:37</td>\n",
       "      <td>inc  hold lifted horseman capital management ltd</td>\n",
       "      <td>0.0000</td>\n",
       "    </tr>\n",
       "    <tr>\n",
       "      <th>4</th>\n",
       "      <td>947732179253170177</td>\n",
       "      <td>Insider Selling: Tesla Inc (NASDAQ:TSLA) VP Sells 1,400 Shares of Stock  http://ift.tt/2lwCJqY</td>\n",
       "      <td>2018-01-01 02:32:14</td>\n",
       "      <td>insider sell  inc nasda  vp sell share stock</td>\n",
       "      <td>0.2960</td>\n",
       "    </tr>\n",
       "  </tbody>\n",
       "</table>\n",
       "</div>"
      ],
      "text/plain": [
       "                   id  \\\n",
       "0  947702253313495045   \n",
       "1  947702742264569857   \n",
       "2  947709627394748416   \n",
       "3  947712900377976832   \n",
       "4  947732179253170177   \n",
       "\n",
       "                                                                                                                                                                              tweet  \\\n",
       "0                                                                                                        Tesla $TSLA Rating Increased to Hold at ValuEngine  http://ift.tt/2lzM80m    \n",
       "1                                                                                                        Tesla $TSLA Rating Increased to Hold at ValuEngine  http://ift.tt/2CjAmm2    \n",
       "2  Horseman Capital Management LTD Increases Position in Tesla INC (TSLA)  http://clicklancashire.com/2017/12/31/horseman-capital-management-ltd-increases-position-in-tesla.html …   \n",
       "3                    Tesla INC (TSLA) Holding Lifted by Horseman Capital Management Ltd  http://newburghgazette.com/2017/12/31/tesla-inc-tsla-holding-lifted-by-horseman-capital/ …   \n",
       "4                                                                                   Insider Selling: Tesla Inc (NASDAQ:TSLA) VP Sells 1,400 Shares of Stock  http://ift.tt/2lwCJqY    \n",
       "\n",
       "            date_time  \\\n",
       "0 2018-01-01 00:33:19   \n",
       "1 2018-01-01 00:35:15   \n",
       "2 2018-01-01 01:02:37   \n",
       "3 2018-01-01 01:15:37   \n",
       "4 2018-01-01 02:32:14   \n",
       "\n",
       "                                               clean_tweet  sentiment_1  \n",
       "0                          rating increase hold valuengine       0.3182  \n",
       "1                          rating increase hold valuengine       0.3182  \n",
       "2  horseman capital management ltd increase position  inc        0.3182  \n",
       "3         inc  hold lifted horseman capital management ltd       0.0000  \n",
       "4             insider sell  inc nasda  vp sell share stock       0.2960  "
      ]
     },
     "execution_count": 201,
     "metadata": {},
     "output_type": "execute_result"
    }
   ],
   "source": [
    "# Use sia.polarity_scores to get sentiment for each tweets\n",
    "\n",
    "tweets['sentiment_1'] = tweets.apply(lambda row: sia.polarity_scores(row.clean_tweet)['compound'], axis=1)\n",
    "tweets.head()"
   ]
  },
  {
   "cell_type": "markdown",
   "metadata": {},
   "source": [
    "### Calculate Sentiment Score with TextBlob"
   ]
  },
  {
   "cell_type": "code",
   "execution_count": 202,
   "metadata": {},
   "outputs": [
    {
     "data": {
      "text/html": [
       "<div>\n",
       "<style scoped>\n",
       "    .dataframe tbody tr th:only-of-type {\n",
       "        vertical-align: middle;\n",
       "    }\n",
       "\n",
       "    .dataframe tbody tr th {\n",
       "        vertical-align: top;\n",
       "    }\n",
       "\n",
       "    .dataframe thead th {\n",
       "        text-align: right;\n",
       "    }\n",
       "</style>\n",
       "<table border=\"1\" class=\"dataframe\">\n",
       "  <thead>\n",
       "    <tr style=\"text-align: right;\">\n",
       "      <th></th>\n",
       "      <th>id</th>\n",
       "      <th>tweet</th>\n",
       "      <th>date_time</th>\n",
       "      <th>clean_tweet</th>\n",
       "      <th>sentiment_1</th>\n",
       "      <th>sentiment_2</th>\n",
       "    </tr>\n",
       "  </thead>\n",
       "  <tbody>\n",
       "    <tr>\n",
       "      <th>0</th>\n",
       "      <td>947702253313495045</td>\n",
       "      <td>Tesla $TSLA Rating Increased to Hold at ValuEngine  http://ift.tt/2lzM80m</td>\n",
       "      <td>2018-01-01 00:33:19</td>\n",
       "      <td>rating increase hold valuengine</td>\n",
       "      <td>0.3182</td>\n",
       "      <td>0.0</td>\n",
       "    </tr>\n",
       "    <tr>\n",
       "      <th>1</th>\n",
       "      <td>947702742264569857</td>\n",
       "      <td>Tesla $TSLA Rating Increased to Hold at ValuEngine  http://ift.tt/2CjAmm2</td>\n",
       "      <td>2018-01-01 00:35:15</td>\n",
       "      <td>rating increase hold valuengine</td>\n",
       "      <td>0.3182</td>\n",
       "      <td>0.0</td>\n",
       "    </tr>\n",
       "    <tr>\n",
       "      <th>2</th>\n",
       "      <td>947709627394748416</td>\n",
       "      <td>Horseman Capital Management LTD Increases Position in Tesla INC (TSLA)  http://clicklancashire.com/2017/12/31/horseman-capital-management-ltd-increases-position-in-tesla.html …</td>\n",
       "      <td>2018-01-01 01:02:37</td>\n",
       "      <td>horseman capital management ltd increase position  inc</td>\n",
       "      <td>0.3182</td>\n",
       "      <td>0.0</td>\n",
       "    </tr>\n",
       "    <tr>\n",
       "      <th>3</th>\n",
       "      <td>947712900377976832</td>\n",
       "      <td>Tesla INC (TSLA) Holding Lifted by Horseman Capital Management Ltd  http://newburghgazette.com/2017/12/31/tesla-inc-tsla-holding-lifted-by-horseman-capital/ …</td>\n",
       "      <td>2018-01-01 01:15:37</td>\n",
       "      <td>inc  hold lifted horseman capital management ltd</td>\n",
       "      <td>0.0000</td>\n",
       "      <td>0.0</td>\n",
       "    </tr>\n",
       "    <tr>\n",
       "      <th>4</th>\n",
       "      <td>947732179253170177</td>\n",
       "      <td>Insider Selling: Tesla Inc (NASDAQ:TSLA) VP Sells 1,400 Shares of Stock  http://ift.tt/2lwCJqY</td>\n",
       "      <td>2018-01-01 02:32:14</td>\n",
       "      <td>insider sell  inc nasda  vp sell share stock</td>\n",
       "      <td>0.2960</td>\n",
       "      <td>0.0</td>\n",
       "    </tr>\n",
       "  </tbody>\n",
       "</table>\n",
       "</div>"
      ],
      "text/plain": [
       "                   id  \\\n",
       "0  947702253313495045   \n",
       "1  947702742264569857   \n",
       "2  947709627394748416   \n",
       "3  947712900377976832   \n",
       "4  947732179253170177   \n",
       "\n",
       "                                                                                                                                                                              tweet  \\\n",
       "0                                                                                                        Tesla $TSLA Rating Increased to Hold at ValuEngine  http://ift.tt/2lzM80m    \n",
       "1                                                                                                        Tesla $TSLA Rating Increased to Hold at ValuEngine  http://ift.tt/2CjAmm2    \n",
       "2  Horseman Capital Management LTD Increases Position in Tesla INC (TSLA)  http://clicklancashire.com/2017/12/31/horseman-capital-management-ltd-increases-position-in-tesla.html …   \n",
       "3                    Tesla INC (TSLA) Holding Lifted by Horseman Capital Management Ltd  http://newburghgazette.com/2017/12/31/tesla-inc-tsla-holding-lifted-by-horseman-capital/ …   \n",
       "4                                                                                   Insider Selling: Tesla Inc (NASDAQ:TSLA) VP Sells 1,400 Shares of Stock  http://ift.tt/2lwCJqY    \n",
       "\n",
       "            date_time  \\\n",
       "0 2018-01-01 00:33:19   \n",
       "1 2018-01-01 00:35:15   \n",
       "2 2018-01-01 01:02:37   \n",
       "3 2018-01-01 01:15:37   \n",
       "4 2018-01-01 02:32:14   \n",
       "\n",
       "                                               clean_tweet  sentiment_1  \\\n",
       "0                          rating increase hold valuengine       0.3182   \n",
       "1                          rating increase hold valuengine       0.3182   \n",
       "2  horseman capital management ltd increase position  inc        0.3182   \n",
       "3         inc  hold lifted horseman capital management ltd       0.0000   \n",
       "4             insider sell  inc nasda  vp sell share stock       0.2960   \n",
       "\n",
       "   sentiment_2  \n",
       "0          0.0  \n",
       "1          0.0  \n",
       "2          0.0  \n",
       "3          0.0  \n",
       "4          0.0  "
      ]
     },
     "execution_count": 202,
     "metadata": {},
     "output_type": "execute_result"
    }
   ],
   "source": [
    "# Use TextBlob to get sentiment scores\n",
    "\n",
    "tweets['sentiment_2'] = tweets.apply(lambda row: TextBlob(row.clean_tweet).sentiment[0], axis=1)\n",
    "tweets.head()"
   ]
  },
  {
   "cell_type": "code",
   "execution_count": 203,
   "metadata": {},
   "outputs": [
    {
     "data": {
      "text/html": [
       "<div>\n",
       "<style scoped>\n",
       "    .dataframe tbody tr th:only-of-type {\n",
       "        vertical-align: middle;\n",
       "    }\n",
       "\n",
       "    .dataframe tbody tr th {\n",
       "        vertical-align: top;\n",
       "    }\n",
       "\n",
       "    .dataframe thead th {\n",
       "        text-align: right;\n",
       "    }\n",
       "</style>\n",
       "<table border=\"1\" class=\"dataframe\">\n",
       "  <thead>\n",
       "    <tr style=\"text-align: right;\">\n",
       "      <th></th>\n",
       "      <th>Original Tweet</th>\n",
       "      <th>Cleaned Tweet</th>\n",
       "      <th>Vader Sentiment</th>\n",
       "      <th>TextBlob Sentiment</th>\n",
       "    </tr>\n",
       "  </thead>\n",
       "  <tbody>\n",
       "    <tr>\n",
       "      <th>196612</th>\n",
       "      <td>Tesla Model 3 owner lays the case on why the US is better off supporting TSLA | TESLARATI  https://www.teslarati.com/tesla-model-3-owner-americans-should-support-tsla/ …</td>\n",
       "      <td>model owner lay case u good support  rati</td>\n",
       "      <td>0.6808</td>\n",
       "      <td>0.700000</td>\n",
       "    </tr>\n",
       "    <tr>\n",
       "      <th>34610</th>\n",
       "      <td>How Will Tesla $TSLA Stock React to The Latest Coverage By Needham?  https://presstelegraph.com/how-will-tesla-nasdaqtsla-stock-react-to-the-latest-coverage-by-needham/ …</td>\n",
       "      <td>stock react late coverage needham</td>\n",
       "      <td>0.0000</td>\n",
       "      <td>-0.300000</td>\n",
       "    </tr>\n",
       "    <tr>\n",
       "      <th>120865</th>\n",
       "      <td>You’re right in part. Middle incomes seems to prefer local cars. However, I think that there is one key element that Alters things in favor of #Tesla: It’s the only viable electric car available and the Model 3 is the only somewhat affordable one. $TSLA $TSLAQ</td>\n",
       "      <td>right part middle incomes seem prefer local car however think one key element alters thing favor   viable electric car available model somewhat affordable one</td>\n",
       "      <td>0.4019</td>\n",
       "      <td>0.137143</td>\n",
       "    </tr>\n",
       "    <tr>\n",
       "      <th>156932</th>\n",
       "      <td>$tsla  Who needs parts?  Seriously, does this person really believe no one is waiting for Tesla parts?  https://twitter.com/Crazyinventorg2/status/1106279979690663937 …</td>\n",
       "      <td>need part seriously person really believe one wait  part</td>\n",
       "      <td>-0.1779</td>\n",
       "      <td>-0.066667</td>\n",
       "    </tr>\n",
       "    <tr>\n",
       "      <th>182880</th>\n",
       "      <td>$TSLA #Banks #underwriters #buy #bought #cheap Ars Technica: Tesla fundraising push blows past $2 billion target.  https://arstechnica.com/cars/2019/05/2-34-billion-fundraise-gives-tesla-much-needed-breathing-room/ …  via @GoogleNews</td>\n",
       "      <td>bank  underwriter  buy  buy  cheap ar technica  fundraise push blow past billion target</td>\n",
       "      <td>0.0000</td>\n",
       "      <td>0.075000</td>\n",
       "    </tr>\n",
       "    <tr>\n",
       "      <th>185047</th>\n",
       "      <td>A Tesla Model 3 Produces More CO2 than a Diesel Car, Says New Study  https://interestingengineering.com/a-tesla-model-3-produces-more-co2-than-a-diesel-car-says-new-study … $TSLA $TSLAQ https://twitter.com/Tesla/status/1126575043281080323 …</td>\n",
       "      <td>model produce co diesel car say new study</td>\n",
       "      <td>0.0000</td>\n",
       "      <td>0.136364</td>\n",
       "    </tr>\n",
       "    <tr>\n",
       "      <th>191414</th>\n",
       "      <td>Yes, and of course she’ll never follow up on that video and admit she was wrong. Just move onto the next thing like “Tesla will be out of cash in 10 months like Elon said” @lopezlinette it’s pure comedy $tsla $tslaQ</td>\n",
       "      <td>yes course never follow video admit wrong move onto next thing like  cash month like elon say lopezlinette pure comedy</td>\n",
       "      <td>0.6713</td>\n",
       "      <td>-0.095238</td>\n",
       "    </tr>\n",
       "    <tr>\n",
       "      <th>190006</th>\n",
       "      <td>Jaded Tesla investors are getting sick of Elon Musk's big, flashy promises. Here's what the company should do instead to turn things around. (TSLA)  http://bit.ly/2JWHCGL</td>\n",
       "      <td>jade  investor get sick elon musk big flashy promise company instead turn thing around</td>\n",
       "      <td>-0.2500</td>\n",
       "      <td>-0.404762</td>\n",
       "    </tr>\n",
       "    <tr>\n",
       "      <th>85711</th>\n",
       "      <td>What a fun Tesla thing to do. $TSLA  https://twitter.com/S_Padival/status/1040420457361563648 …</td>\n",
       "      <td>fun  thing</td>\n",
       "      <td>0.5106</td>\n",
       "      <td>0.300000</td>\n",
       "    </tr>\n",
       "    <tr>\n",
       "      <th>132621</th>\n",
       "      <td>So if Tesla is employing a big check kiting scheme, what happens when sales decrease?  Hmmmmm.... $TSLA $TSLAQ https://twitter.com/PlugInFUD/status/1085312357176406016 …</td>\n",
       "      <td>employ big check kit scheme happen sale decrease hmmmmm</td>\n",
       "      <td>0.0000</td>\n",
       "      <td>0.000000</td>\n",
       "    </tr>\n",
       "  </tbody>\n",
       "</table>\n",
       "</div>"
      ],
      "text/plain": [
       "                                                                                                                                                                                                                                                              Original Tweet  \\\n",
       "196612                                                                                             Tesla Model 3 owner lays the case on why the US is better off supporting TSLA | TESLARATI  https://www.teslarati.com/tesla-model-3-owner-americans-should-support-tsla/ …   \n",
       "34610                                                                                             How Will Tesla $TSLA Stock React to The Latest Coverage By Needham?  https://presstelegraph.com/how-will-tesla-nasdaqtsla-stock-react-to-the-latest-coverage-by-needham/ …   \n",
       "120865  You’re right in part. Middle incomes seems to prefer local cars. However, I think that there is one key element that Alters things in favor of #Tesla: It’s the only viable electric car available and the Model 3 is the only somewhat affordable one. $TSLA $TSLAQ   \n",
       "156932                                                                                              $tsla  Who needs parts?  Seriously, does this person really believe no one is waiting for Tesla parts?  https://twitter.com/Crazyinventorg2/status/1106279979690663937 …   \n",
       "182880                             $TSLA #Banks #underwriters #buy #bought #cheap Ars Technica: Tesla fundraising push blows past $2 billion target.  https://arstechnica.com/cars/2019/05/2-34-billion-fundraise-gives-tesla-much-needed-breathing-room/ …  via @GoogleNews   \n",
       "185047                      A Tesla Model 3 Produces More CO2 than a Diesel Car, Says New Study  https://interestingengineering.com/a-tesla-model-3-produces-more-co2-than-a-diesel-car-says-new-study … $TSLA $TSLAQ https://twitter.com/Tesla/status/1126575043281080323 …   \n",
       "191414                                               Yes, and of course she’ll never follow up on that video and admit she was wrong. Just move onto the next thing like “Tesla will be out of cash in 10 months like Elon said” @lopezlinette it’s pure comedy $tsla $tslaQ   \n",
       "190006                                                                                           Jaded Tesla investors are getting sick of Elon Musk's big, flashy promises. Here's what the company should do instead to turn things around. (TSLA)  http://bit.ly/2JWHCGL    \n",
       "85711                                                                                                                                                                        What a fun Tesla thing to do. $TSLA  https://twitter.com/S_Padival/status/1040420457361563648 …   \n",
       "132621                                                                                             So if Tesla is employing a big check kiting scheme, what happens when sales decrease?  Hmmmmm.... $TSLA $TSLAQ https://twitter.com/PlugInFUD/status/1085312357176406016 …   \n",
       "\n",
       "                                                                                                                                                           Cleaned Tweet  \\\n",
       "196612                                                                                                                         model owner lay case u good support  rati   \n",
       "34610                                                                                                                                  stock react late coverage needham   \n",
       "120865  right part middle incomes seem prefer local car however think one key element alters thing favor   viable electric car available model somewhat affordable one     \n",
       "156932                                                                                                          need part seriously person really believe one wait  part   \n",
       "182880                                                                           bank  underwriter  buy  buy  cheap ar technica  fundraise push blow past billion target   \n",
       "185047                                                                                                                         model produce co diesel car say new study   \n",
       "191414                                          yes course never follow video admit wrong move onto next thing like  cash month like elon say lopezlinette pure comedy     \n",
       "190006                                                                           jade  investor get sick elon musk big flashy promise company instead turn thing around    \n",
       "85711                                                                                                                                                        fun  thing    \n",
       "132621                                                                                                         employ big check kit scheme happen sale decrease hmmmmm     \n",
       "\n",
       "        Vader Sentiment  TextBlob Sentiment  \n",
       "196612           0.6808            0.700000  \n",
       "34610            0.0000           -0.300000  \n",
       "120865           0.4019            0.137143  \n",
       "156932          -0.1779           -0.066667  \n",
       "182880           0.0000            0.075000  \n",
       "185047           0.0000            0.136364  \n",
       "191414           0.6713           -0.095238  \n",
       "190006          -0.2500           -0.404762  \n",
       "85711            0.5106            0.300000  \n",
       "132621           0.0000            0.000000  "
      ]
     },
     "execution_count": 203,
     "metadata": {},
     "output_type": "execute_result"
    }
   ],
   "source": [
    "# Preview how sentiment scores differ on different tweets\n",
    "\n",
    "pd.options.display.max_colwidth = 300\n",
    "random_subset = tweets.sample(n=10)\n",
    "random_subset = random_subset.drop(columns=['id', 'date_time'])\n",
    "random_subset.rename(columns={'tweet':'Original Tweet'})\n",
    "random_subset = random_subset.rename(columns={'tweet': 'Original Tweet', 'clean_tweet': 'Cleaned Tweet', 'sentiment_1': 'Vader Sentiment', 'sentiment_2':'TextBlob Sentiment'})\n",
    "random_subset.head(10)"
   ]
  },
  {
   "cell_type": "code",
   "execution_count": 204,
   "metadata": {},
   "outputs": [
    {
     "data": {
      "text/plain": [
       "(212242, 6)"
      ]
     },
     "execution_count": 204,
     "metadata": {},
     "output_type": "execute_result"
    }
   ],
   "source": [
    "tweets.shape"
   ]
  },
  {
   "cell_type": "markdown",
   "metadata": {},
   "source": [
    "## EDA"
   ]
  },
  {
   "cell_type": "code",
   "execution_count": 206,
   "metadata": {},
   "outputs": [
    {
     "data": {
      "image/png": "[encoded data removed]",
      "text/plain": [
       "<Figure size 1152x360 with 1 Axes>"
      ]
     },
     "metadata": {
      "needs_background": "light"
     },
     "output_type": "display_data"
    }
   ],
   "source": [
    "# View count of tweets for binned sentiment_1\n",
    "\n",
    "bins = [-1.01, -.75, -.5, -.25, 0, .25, .5, .75, 1]\n",
    "tweets['binned_s1'] = pd.cut(tweets['sentiment_1'], bins)\n",
    "plt.figure(figsize=(16,5))\n",
    "ax = sns.countplot(x=tweets['binned_s1'])\n",
    "ax.set_ylabel('Number of Tweets', fontsize=16)\n",
    "ax.set_xlabel('Vader Sentiment Score', fontsize=16)\n",
    "ax.set_xticklabels(ax.get_xticklabels(), rotation=40, ha=\"right\", fontsize=14)\n",
    "ax.set_title(\"Vader Sentiment Tweet Counts\", fontsize=20)\n",
    "ax.set_ylim(0, 120000)\n",
    "plt.show()"
   ]
  },
  {
   "cell_type": "code",
   "execution_count": 207,
   "metadata": {},
   "outputs": [
    {
     "data": {
      "image/png": "[encoded data removed]",
      "text/plain": [
       "<Figure size 1152x360 with 1 Axes>"
      ]
     },
     "metadata": {
      "needs_background": "light"
     },
     "output_type": "display_data"
    }
   ],
   "source": [
    "# View count of tweets for binned sentiment_2\n",
    "\n",
    "bins = [-1.01, -.75, -.5, -.25, 0, .25, .5, .75, 1]\n",
    "tweets['binned_s2'] = pd.cut(tweets['sentiment_2'], bins)\n",
    "plt.figure(figsize=(16,5))\n",
    "ax = sns.countplot(x=tweets['binned_s2'])\n",
    "ax.set_ylabel('Number of Tweets', fontsize=16)\n",
    "ax.set_xlabel('TextBlob Sentiment Score', fontsize=16)\n",
    "ax.set_xticklabels(ax.get_xticklabels(), rotation=40, ha=\"right\", fontsize=14)\n",
    "ax.set_title(\"TextBlob Sentiment Tweet Counts\", fontsize=20)\n",
    "ax.set_ylim(0, 120000)\n",
    "plt.show()"
   ]
  },
  {
   "cell_type": "code",
   "execution_count": 208,
   "metadata": {},
   "outputs": [
    {
     "name": "stdout",
     "output_type": "stream",
     "text": [
      "id                                                                                                                                                                                                                                                           1093935106132271104\n",
      "tweet          Uhhh,,,yeah,,,yeahhh,,, super exciting,,, super,,, like,,, yeah, yeah,,, it probably, definitely, yeah, yeah, definitely, maybe,,, yeah like it's super,,, yeah, definitely maybe, yeah,,,lol #thoughtsofgenius #tinfoilchucker $tsla  pic.twitter.com/skEsr4XwRT\n",
      "date_time                                                                                                                                                                                                                                                    2019-02-08 13:10:28\n",
      "clean_tweet                                                       uhhh yeah yeahhh super excite super like yeah yeah probably definitely yeah yeah definitely maybe yeah like super yeah definitely maybe yeah lol  thoughtsofgenius  tinfoilchucker  pic twitter com skesr xwrt\n",
      "sentiment_1                                                                                                                                                                                                                                                               0.9919\n",
      "sentiment_2                                                                                                                                                                                                                                                             0.257143\n",
      "binned_s1                                                                                                                                                                                                                                                            (0.75, 1.0]\n",
      "binned_s2                                                                                                                                                                                                                                                            (0.25, 0.5]\n",
      "Name: 142168, dtype: object\n"
     ]
    }
   ],
   "source": [
    "# Tweet with the highest sentiment_1 \n",
    "\n",
    "print(tweets.loc[tweets['sentiment_1'].idxmax()])"
   ]
  },
  {
   "cell_type": "code",
   "execution_count": 209,
   "metadata": {},
   "outputs": [
    {
     "name": "stdout",
     "output_type": "stream",
     "text": [
      "id                                                                                                                                                                                                                                                                                                     1125361328682672128\n",
      "tweet          $TSLA $TSLAQ 2003: LOSS 2004: LOSS 2005: LOSS 2006: LOSS 2007: LOSS 2008: LOSS 2009: LOSS 2010: LOSS 2011: LOSS 2012: LOSS 2013: LOSS 2014: LOSS 2015: LOSS 2016: LOSS 2017: LOSS 2018: LOSS 2019: Already puked out a $700 million loss. Let's see if you can connect the dots. pic.twitter.com/2n9FOrb6m4\n",
      "date_time                                                                                                                                                                                                                                                                                              2019-05-06 07:27:03\n",
      "clean_tweet                                                                                                                                                           loss loss loss loss loss loss loss loss loss loss loss loss loss loss loss loss already puke million loss let see connect dot pic twitter com n forb\n",
      "sentiment_1                                                                                                                                                                                                                                                                                                        -0.9877\n",
      "sentiment_2                                                                                                                                                                                                                                                                                                              0\n",
      "binned_s1                                                                                                                                                                                                                                                                                                   (-1.01, -0.75]\n",
      "binned_s2                                                                                                                                                                                                                                                                                                     (-0.25, 0.0]\n",
      "Name: 183579, dtype: object\n"
     ]
    }
   ],
   "source": [
    "# Tweet with the samllest sentiment_1\n",
    "\n",
    "print(tweets.loc[tweets['sentiment_1'].idxmin()])"
   ]
  },
  {
   "cell_type": "code",
   "execution_count": 210,
   "metadata": {},
   "outputs": [
    {
     "name": "stdout",
     "output_type": "stream",
     "text": [
      "id                                                                                                                                                                     948653508730896384\n",
      "tweet          $TSLA $GM:  The Best-Selling EV in the US After Tesla? The Chevy Bolt:   http://www.StockNewsWires.com/tsla-gm-the-best-selling-ev-in-the-us-after-tesla-the-chevy-bolt/ …\n",
      "date_time                                                                                                                                                             2018-01-03 15:33:16\n",
      "clean_tweet                                                                                                                                              gm best selling ev u  chevy bolt\n",
      "sentiment_1                                                                                                                                                                        0.6369\n",
      "sentiment_2                                                                                                                                                                             1\n",
      "binned_s1                                                                                                                                                                     (0.5, 0.75]\n",
      "binned_s2                                                                                                                                                                     (0.75, 1.0]\n",
      "Name: 417, dtype: object\n"
     ]
    }
   ],
   "source": [
    "# Tweet with the highest sentiment_2\n",
    "\n",
    "print(tweets.loc[tweets['sentiment_2'].idxmax()])"
   ]
  },
  {
   "cell_type": "code",
   "execution_count": 211,
   "metadata": {},
   "outputs": [
    {
     "name": "stdout",
     "output_type": "stream",
     "text": [
      "id                                                                                                                                                           948675122080112640\n",
      "tweet          Tesla's Model 3 deliveries were awful — but the company still set a sales record for 2017 (TSLA)  http://dlvr.it/Q8mFbK  #storystream pic.twitter.com/OxscGEUYtm\n",
      "date_time                                                                                                                                                   2018-01-03 16:59:09\n",
      "clean_tweet                                                                                                                 model delivery awful company still set sale record \n",
      "sentiment_1                                                                                                                                                             -0.4588\n",
      "sentiment_2                                                                                                                                                                  -1\n",
      "binned_s1                                                                                                                                                         (-0.5, -0.25]\n",
      "binned_s2                                                                                                                                                        (-1.01, -0.75]\n",
      "Name: 497, dtype: object\n"
     ]
    }
   ],
   "source": [
    "# Tweet with the samllest sentiment_2\n",
    "\n",
    "print(tweets.loc[tweets['sentiment_2'].idxmin()])"
   ]
  },
  {
   "cell_type": "markdown",
   "metadata": {},
   "source": [
    "### EDA with Daily Sentiment"
   ]
  },
  {
   "cell_type": "code",
   "execution_count": 212,
   "metadata": {},
   "outputs": [
    {
     "data": {
      "text/html": [
       "<div>\n",
       "<style scoped>\n",
       "    .dataframe tbody tr th:only-of-type {\n",
       "        vertical-align: middle;\n",
       "    }\n",
       "\n",
       "    .dataframe tbody tr th {\n",
       "        vertical-align: top;\n",
       "    }\n",
       "\n",
       "    .dataframe thead th {\n",
       "        text-align: right;\n",
       "    }\n",
       "</style>\n",
       "<table border=\"1\" class=\"dataframe\">\n",
       "  <thead>\n",
       "    <tr style=\"text-align: right;\">\n",
       "      <th></th>\n",
       "      <th>date_time</th>\n",
       "      <th>sentiment_1</th>\n",
       "      <th>sentiment_2</th>\n",
       "    </tr>\n",
       "  </thead>\n",
       "  <tbody>\n",
       "    <tr>\n",
       "      <th>0</th>\n",
       "      <td>2018-01-01 00:33:19</td>\n",
       "      <td>0.3182</td>\n",
       "      <td>0.0</td>\n",
       "    </tr>\n",
       "    <tr>\n",
       "      <th>1</th>\n",
       "      <td>2018-01-01 00:35:15</td>\n",
       "      <td>0.3182</td>\n",
       "      <td>0.0</td>\n",
       "    </tr>\n",
       "    <tr>\n",
       "      <th>2</th>\n",
       "      <td>2018-01-01 01:02:37</td>\n",
       "      <td>0.3182</td>\n",
       "      <td>0.0</td>\n",
       "    </tr>\n",
       "    <tr>\n",
       "      <th>3</th>\n",
       "      <td>2018-01-01 01:15:37</td>\n",
       "      <td>0.0000</td>\n",
       "      <td>0.0</td>\n",
       "    </tr>\n",
       "    <tr>\n",
       "      <th>4</th>\n",
       "      <td>2018-01-01 02:32:14</td>\n",
       "      <td>0.2960</td>\n",
       "      <td>0.0</td>\n",
       "    </tr>\n",
       "  </tbody>\n",
       "</table>\n",
       "</div>"
      ],
      "text/plain": [
       "            date_time  sentiment_1  sentiment_2\n",
       "0 2018-01-01 00:33:19       0.3182          0.0\n",
       "1 2018-01-01 00:35:15       0.3182          0.0\n",
       "2 2018-01-01 01:02:37       0.3182          0.0\n",
       "3 2018-01-01 01:15:37       0.0000          0.0\n",
       "4 2018-01-01 02:32:14       0.2960          0.0"
      ]
     },
     "execution_count": 212,
     "metadata": {},
     "output_type": "execute_result"
    }
   ],
   "source": [
    "daily_sentiment1 = tweets[['date_time','sentiment_1', 'sentiment_2']]\n",
    "daily_sentiment1.head()"
   ]
  },
  {
   "cell_type": "code",
   "execution_count": 213,
   "metadata": {},
   "outputs": [
    {
     "data": {
      "text/html": [
       "<div>\n",
       "<style scoped>\n",
       "    .dataframe tbody tr th:only-of-type {\n",
       "        vertical-align: middle;\n",
       "    }\n",
       "\n",
       "    .dataframe tbody tr th {\n",
       "        vertical-align: top;\n",
       "    }\n",
       "\n",
       "    .dataframe thead th {\n",
       "        text-align: right;\n",
       "    }\n",
       "</style>\n",
       "<table border=\"1\" class=\"dataframe\">\n",
       "  <thead>\n",
       "    <tr style=\"text-align: right;\">\n",
       "      <th></th>\n",
       "      <th>sentiment_1</th>\n",
       "      <th>sentiment_2</th>\n",
       "    </tr>\n",
       "    <tr>\n",
       "      <th>date_time</th>\n",
       "      <th></th>\n",
       "      <th></th>\n",
       "    </tr>\n",
       "  </thead>\n",
       "  <tbody>\n",
       "    <tr>\n",
       "      <th>2018-01-01</th>\n",
       "      <td>0.151495</td>\n",
       "      <td>0.072671</td>\n",
       "    </tr>\n",
       "    <tr>\n",
       "      <th>2018-01-02</th>\n",
       "      <td>0.128540</td>\n",
       "      <td>0.020339</td>\n",
       "    </tr>\n",
       "    <tr>\n",
       "      <th>2018-01-03</th>\n",
       "      <td>-0.076401</td>\n",
       "      <td>-0.042189</td>\n",
       "    </tr>\n",
       "    <tr>\n",
       "      <th>2018-01-04</th>\n",
       "      <td>-0.021646</td>\n",
       "      <td>0.005735</td>\n",
       "    </tr>\n",
       "    <tr>\n",
       "      <th>2018-01-05</th>\n",
       "      <td>0.053596</td>\n",
       "      <td>0.037756</td>\n",
       "    </tr>\n",
       "  </tbody>\n",
       "</table>\n",
       "</div>"
      ],
      "text/plain": [
       "            sentiment_1  sentiment_2\n",
       "date_time                           \n",
       "2018-01-01     0.151495     0.072671\n",
       "2018-01-02     0.128540     0.020339\n",
       "2018-01-03    -0.076401    -0.042189\n",
       "2018-01-04    -0.021646     0.005735\n",
       "2018-01-05     0.053596     0.037756"
      ]
     },
     "execution_count": 213,
     "metadata": {},
     "output_type": "execute_result"
    }
   ],
   "source": [
    "daily_sentiment1 = daily_sentiment1.resample('D', on='date_time').mean()\n",
    "daily_sentiment1.head()"
   ]
  },
  {
   "cell_type": "code",
   "execution_count": 214,
   "metadata": {},
   "outputs": [
    {
     "data": {
      "image/png": "[encoded data removed]",
      "text/plain": [
       "<Figure size 1152x360 with 1 Axes>"
      ]
     },
     "metadata": {
      "needs_background": "light"
     },
     "output_type": "display_data"
    }
   ],
   "source": [
    "# Find the days with the highest sentiment_1\n",
    "\n",
    "freq_df = daily_sentiment1.nlargest(columns=\"sentiment_1\", n = 10) \n",
    "plt.figure(figsize=(16,5))\n",
    "ax = sns.barplot(data=freq_df, x= freq_df.index.date, y = freq_df['sentiment_1'])\n",
    "ax.set_ylabel('Average Sentiment Score', fontsize=16)\n",
    "ax.set_xlabel('Date', fontsize=16)\n",
    "ax.set_xticklabels(ax.get_xticklabels(), rotation=40, ha=\"right\", fontsize=14)\n",
    "ax.set_title('Top Daily Vader Sentiment Scores', fontsize=22)\n",
    "plt.show()"
   ]
  },
  {
   "cell_type": "code",
   "execution_count": 215,
   "metadata": {},
   "outputs": [
    {
     "data": {
      "image/png": "[encoded data removed]",
      "text/plain": [
       "<Figure size 1152x360 with 1 Axes>"
      ]
     },
     "metadata": {
      "needs_background": "light"
     },
     "output_type": "display_data"
    }
   ],
   "source": [
    "# Find the days with the highest sentiment_2\n",
    "\n",
    "freq_df = daily_sentiment1.nlargest(columns=\"sentiment_2\", n = 10) \n",
    "plt.figure(figsize=(16,5))\n",
    "ax = sns.barplot(data=freq_df, x= freq_df.index.date, y = freq_df['sentiment_2'])\n",
    "ax.set_ylabel('Average Sentiment Score', fontsize=16)\n",
    "ax.set_xlabel('Date', fontsize=16)\n",
    "ax.set_xticklabels(ax.get_xticklabels(), rotation=40, ha=\"right\", fontsize=14)\n",
    "ax.set_title('Top Daily TextBlob Sentiment Scores', fontsize=22)\n",
    "plt.show()"
   ]
  },
  {
   "cell_type": "code",
   "execution_count": 216,
   "metadata": {},
   "outputs": [
    {
     "data": {
      "image/png": "[encoded data removed]",
      "text/plain": [
       "<Figure size 1152x360 with 1 Axes>"
      ]
     },
     "metadata": {
      "needs_background": "light"
     },
     "output_type": "display_data"
    }
   ],
   "source": [
    "# Find the days with the lowest sentiment_1\n",
    "\n",
    "freq_df = daily_sentiment1.nsmallest(columns=\"sentiment_1\", n = 10) \n",
    "plt.figure(figsize=(16,5))\n",
    "ax = sns.barplot(data=freq_df, x= freq_df.index.date, y = freq_df['sentiment_1'])\n",
    "ax.set_ylabel('Average Sentiment Score', fontsize=16)\n",
    "ax.set_xlabel('Date', fontsize=16)\n",
    "ax.set_xticklabels(ax.get_xticklabels(), rotation=40, ha=\"right\", fontsize=14)\n",
    "ax.set_title('Lowest Daily Vader Sentiment Scores', fontsize=22)\n",
    "\n",
    "plt.show()"
   ]
  },
  {
   "cell_type": "code",
   "execution_count": 217,
   "metadata": {},
   "outputs": [
    {
     "data": {
      "image/png": "[encoded data removed]",
      "text/plain": [
       "<Figure size 1152x360 with 1 Axes>"
      ]
     },
     "metadata": {
      "needs_background": "light"
     },
     "output_type": "display_data"
    }
   ],
   "source": [
    "# Find the days with the lowest sentiment_2\n",
    "\n",
    "freq_df = daily_sentiment1.nsmallest(columns=\"sentiment_2\", n = 10) \n",
    "plt.figure(figsize=(16,5))\n",
    "ax = sns.barplot(data=freq_df, x= freq_df.index.date, y = freq_df['sentiment_2'])\n",
    "ax.set_ylabel('Average Sentiment Score', fontsize=16)\n",
    "ax.set_xlabel('Date', fontsize=16)\n",
    "ax.set_xticklabels(ax.get_xticklabels(), rotation=40, ha=\"right\", fontsize=14)\n",
    "ax.set_title('Lowest Daily TextBlob Sentiment Scores', fontsize=22)\n",
    "ax.set_ylim(-.3, 0)\n",
    "plt.show()"
   ]
  },
  {
   "cell_type": "markdown",
   "metadata": {},
   "source": [
    "### Remove Tweets After 3:55 pm"
   ]
  },
  {
   "cell_type": "code",
   "execution_count": 246,
   "metadata": {},
   "outputs": [
    {
     "data": {
      "text/html": [
       "<div>\n",
       "<style scoped>\n",
       "    .dataframe tbody tr th:only-of-type {\n",
       "        vertical-align: middle;\n",
       "    }\n",
       "\n",
       "    .dataframe tbody tr th {\n",
       "        vertical-align: top;\n",
       "    }\n",
       "\n",
       "    .dataframe thead th {\n",
       "        text-align: right;\n",
       "    }\n",
       "</style>\n",
       "<table border=\"1\" class=\"dataframe\">\n",
       "  <thead>\n",
       "    <tr style=\"text-align: right;\">\n",
       "      <th></th>\n",
       "      <th>id</th>\n",
       "      <th>tweet</th>\n",
       "      <th>clean_tweet</th>\n",
       "      <th>sentiment_1</th>\n",
       "      <th>sentiment_2</th>\n",
       "      <th>binned_s1</th>\n",
       "      <th>binned_s2</th>\n",
       "    </tr>\n",
       "    <tr>\n",
       "      <th>date_time</th>\n",
       "      <th></th>\n",
       "      <th></th>\n",
       "      <th></th>\n",
       "      <th></th>\n",
       "      <th></th>\n",
       "      <th></th>\n",
       "      <th></th>\n",
       "    </tr>\n",
       "  </thead>\n",
       "  <tbody>\n",
       "    <tr>\n",
       "      <th>2018-01-01 00:33:19</th>\n",
       "      <td>947702253313495045</td>\n",
       "      <td>Tesla $TSLA Rating Increased to Hold at ValuEngine  http://ift.tt/2lzM80m</td>\n",
       "      <td>rating increase hold valuengine</td>\n",
       "      <td>0.3182</td>\n",
       "      <td>0.0</td>\n",
       "      <td>(0.25, 0.5]</td>\n",
       "      <td>(-0.25, 0.0]</td>\n",
       "    </tr>\n",
       "    <tr>\n",
       "      <th>2018-01-01 00:35:15</th>\n",
       "      <td>947702742264569857</td>\n",
       "      <td>Tesla $TSLA Rating Increased to Hold at ValuEngine  http://ift.tt/2CjAmm2</td>\n",
       "      <td>rating increase hold valuengine</td>\n",
       "      <td>0.3182</td>\n",
       "      <td>0.0</td>\n",
       "      <td>(0.25, 0.5]</td>\n",
       "      <td>(-0.25, 0.0]</td>\n",
       "    </tr>\n",
       "    <tr>\n",
       "      <th>2018-01-01 01:02:37</th>\n",
       "      <td>947709627394748416</td>\n",
       "      <td>Horseman Capital Management LTD Increases Position in Tesla INC (TSLA)  http://clicklancashire.com/2017/12/31/horseman-capital-management-ltd-increases-position-in-tesla.html …</td>\n",
       "      <td>horseman capital management ltd increase position  inc</td>\n",
       "      <td>0.3182</td>\n",
       "      <td>0.0</td>\n",
       "      <td>(0.25, 0.5]</td>\n",
       "      <td>(-0.25, 0.0]</td>\n",
       "    </tr>\n",
       "    <tr>\n",
       "      <th>2018-01-01 01:15:37</th>\n",
       "      <td>947712900377976832</td>\n",
       "      <td>Tesla INC (TSLA) Holding Lifted by Horseman Capital Management Ltd  http://newburghgazette.com/2017/12/31/tesla-inc-tsla-holding-lifted-by-horseman-capital/ …</td>\n",
       "      <td>inc  hold lifted horseman capital management ltd</td>\n",
       "      <td>0.0000</td>\n",
       "      <td>0.0</td>\n",
       "      <td>(-0.25, 0.0]</td>\n",
       "      <td>(-0.25, 0.0]</td>\n",
       "    </tr>\n",
       "    <tr>\n",
       "      <th>2018-01-01 02:32:14</th>\n",
       "      <td>947732179253170177</td>\n",
       "      <td>Insider Selling: Tesla Inc (NASDAQ:TSLA) VP Sells 1,400 Shares of Stock  http://ift.tt/2lwCJqY</td>\n",
       "      <td>insider sell  inc nasda  vp sell share stock</td>\n",
       "      <td>0.2960</td>\n",
       "      <td>0.0</td>\n",
       "      <td>(0.25, 0.5]</td>\n",
       "      <td>(-0.25, 0.0]</td>\n",
       "    </tr>\n",
       "  </tbody>\n",
       "</table>\n",
       "</div>"
      ],
      "text/plain": [
       "                                     id  \\\n",
       "date_time                                 \n",
       "2018-01-01 00:33:19  947702253313495045   \n",
       "2018-01-01 00:35:15  947702742264569857   \n",
       "2018-01-01 01:02:37  947709627394748416   \n",
       "2018-01-01 01:15:37  947712900377976832   \n",
       "2018-01-01 02:32:14  947732179253170177   \n",
       "\n",
       "                                                                                                                                                                                                tweet  \\\n",
       "date_time                                                                                                                                                                                               \n",
       "2018-01-01 00:33:19                                                                                                        Tesla $TSLA Rating Increased to Hold at ValuEngine  http://ift.tt/2lzM80m    \n",
       "2018-01-01 00:35:15                                                                                                        Tesla $TSLA Rating Increased to Hold at ValuEngine  http://ift.tt/2CjAmm2    \n",
       "2018-01-01 01:02:37  Horseman Capital Management LTD Increases Position in Tesla INC (TSLA)  http://clicklancashire.com/2017/12/31/horseman-capital-management-ltd-increases-position-in-tesla.html …   \n",
       "2018-01-01 01:15:37                    Tesla INC (TSLA) Holding Lifted by Horseman Capital Management Ltd  http://newburghgazette.com/2017/12/31/tesla-inc-tsla-holding-lifted-by-horseman-capital/ …   \n",
       "2018-01-01 02:32:14                                                                                   Insider Selling: Tesla Inc (NASDAQ:TSLA) VP Sells 1,400 Shares of Stock  http://ift.tt/2lwCJqY    \n",
       "\n",
       "                                                                 clean_tweet  \\\n",
       "date_time                                                                      \n",
       "2018-01-01 00:33:19                          rating increase hold valuengine   \n",
       "2018-01-01 00:35:15                          rating increase hold valuengine   \n",
       "2018-01-01 01:02:37  horseman capital management ltd increase position  inc    \n",
       "2018-01-01 01:15:37         inc  hold lifted horseman capital management ltd   \n",
       "2018-01-01 02:32:14             insider sell  inc nasda  vp sell share stock   \n",
       "\n",
       "                     sentiment_1  sentiment_2     binned_s1     binned_s2  \n",
       "date_time                                                                  \n",
       "2018-01-01 00:33:19       0.3182          0.0   (0.25, 0.5]  (-0.25, 0.0]  \n",
       "2018-01-01 00:35:15       0.3182          0.0   (0.25, 0.5]  (-0.25, 0.0]  \n",
       "2018-01-01 01:02:37       0.3182          0.0   (0.25, 0.5]  (-0.25, 0.0]  \n",
       "2018-01-01 01:15:37       0.0000          0.0  (-0.25, 0.0]  (-0.25, 0.0]  \n",
       "2018-01-01 02:32:14       0.2960          0.0   (0.25, 0.5]  (-0.25, 0.0]  "
      ]
     },
     "execution_count": 246,
     "metadata": {},
     "output_type": "execute_result"
    }
   ],
   "source": [
    "# Create new dataframe with only tweets from before 3:55\n",
    "\n",
    "remove_late_tweets = tweets.copy()\n",
    "remove_late_tweets.set_index(pd.to_datetime(remove_late_tweets.date_time), inplace = True)\n",
    "remove_late_tweets = remove_late_tweets.drop(columns = ['date_time'])\n",
    "remove_late_tweets = remove_late_tweets.between_time('00:00:00', '15:55:00')\n",
    "remove_late_tweets.head()"
   ]
  },
  {
   "cell_type": "code",
   "execution_count": 247,
   "metadata": {},
   "outputs": [
    {
     "data": {
      "text/html": [
       "<div>\n",
       "<style scoped>\n",
       "    .dataframe tbody tr th:only-of-type {\n",
       "        vertical-align: middle;\n",
       "    }\n",
       "\n",
       "    .dataframe tbody tr th {\n",
       "        vertical-align: top;\n",
       "    }\n",
       "\n",
       "    .dataframe thead th {\n",
       "        text-align: right;\n",
       "    }\n",
       "</style>\n",
       "<table border=\"1\" class=\"dataframe\">\n",
       "  <thead>\n",
       "    <tr style=\"text-align: right;\">\n",
       "      <th></th>\n",
       "      <th>sentiment_1</th>\n",
       "      <th>sentiment_2</th>\n",
       "    </tr>\n",
       "    <tr>\n",
       "      <th>date_time</th>\n",
       "      <th></th>\n",
       "      <th></th>\n",
       "    </tr>\n",
       "  </thead>\n",
       "  <tbody>\n",
       "    <tr>\n",
       "      <th>2018-01-01</th>\n",
       "      <td>0.159220</td>\n",
       "      <td>0.056144</td>\n",
       "    </tr>\n",
       "    <tr>\n",
       "      <th>2018-01-02</th>\n",
       "      <td>0.129106</td>\n",
       "      <td>0.010886</td>\n",
       "    </tr>\n",
       "    <tr>\n",
       "      <th>2018-01-03</th>\n",
       "      <td>-0.139748</td>\n",
       "      <td>-0.054146</td>\n",
       "    </tr>\n",
       "    <tr>\n",
       "      <th>2018-01-04</th>\n",
       "      <td>-0.062928</td>\n",
       "      <td>0.012496</td>\n",
       "    </tr>\n",
       "    <tr>\n",
       "      <th>2018-01-05</th>\n",
       "      <td>0.050091</td>\n",
       "      <td>0.026263</td>\n",
       "    </tr>\n",
       "  </tbody>\n",
       "</table>\n",
       "</div>"
      ],
      "text/plain": [
       "            sentiment_1  sentiment_2\n",
       "date_time                           \n",
       "2018-01-01     0.159220     0.056144\n",
       "2018-01-02     0.129106     0.010886\n",
       "2018-01-03    -0.139748    -0.054146\n",
       "2018-01-04    -0.062928     0.012496\n",
       "2018-01-05     0.050091     0.026263"
      ]
     },
     "execution_count": 247,
     "metadata": {},
     "output_type": "execute_result"
    }
   ],
   "source": [
    "# Get new daily sentiment score based on tweets before 3:55 pm\n",
    "\n",
    "early_sentiment = remove_late_tweets.copy()\n",
    "early_sentiment = early_sentiment.resample('D').mean()\n",
    "early_sentiment.head()"
   ]
  },
  {
   "cell_type": "code",
   "execution_count": 248,
   "metadata": {},
   "outputs": [
    {
     "data": {
      "text/plain": [
       "sentiment_1    0\n",
       "sentiment_2    0\n",
       "dtype: int64"
      ]
     },
     "execution_count": 248,
     "metadata": {},
     "output_type": "execute_result"
    }
   ],
   "source": [
    "# Check there are no null values\n",
    "\n",
    "early_sentiment.isnull().sum()"
   ]
  },
  {
   "cell_type": "markdown",
   "metadata": {},
   "source": [
    "### Remove Tweets with Sentiment Scores of 0"
   ]
  },
  {
   "cell_type": "code",
   "execution_count": 249,
   "metadata": {},
   "outputs": [
    {
     "data": {
      "text/html": [
       "<div>\n",
       "<style scoped>\n",
       "    .dataframe tbody tr th:only-of-type {\n",
       "        vertical-align: middle;\n",
       "    }\n",
       "\n",
       "    .dataframe tbody tr th {\n",
       "        vertical-align: top;\n",
       "    }\n",
       "\n",
       "    .dataframe thead th {\n",
       "        text-align: right;\n",
       "    }\n",
       "</style>\n",
       "<table border=\"1\" class=\"dataframe\">\n",
       "  <thead>\n",
       "    <tr style=\"text-align: right;\">\n",
       "      <th></th>\n",
       "      <th>id</th>\n",
       "      <th>tweet</th>\n",
       "      <th>clean_tweet</th>\n",
       "      <th>s1_no_0</th>\n",
       "      <th>sentiment_2</th>\n",
       "      <th>binned_s1</th>\n",
       "      <th>binned_s2</th>\n",
       "    </tr>\n",
       "    <tr>\n",
       "      <th>date_time</th>\n",
       "      <th></th>\n",
       "      <th></th>\n",
       "      <th></th>\n",
       "      <th></th>\n",
       "      <th></th>\n",
       "      <th></th>\n",
       "      <th></th>\n",
       "    </tr>\n",
       "  </thead>\n",
       "  <tbody>\n",
       "    <tr>\n",
       "      <th>2018-01-01 00:33:19</th>\n",
       "      <td>947702253313495045</td>\n",
       "      <td>Tesla $TSLA Rating Increased to Hold at ValuEngine  http://ift.tt/2lzM80m</td>\n",
       "      <td>rating increase hold valuengine</td>\n",
       "      <td>0.3182</td>\n",
       "      <td>0.0</td>\n",
       "      <td>(0.25, 0.5]</td>\n",
       "      <td>(-0.25, 0.0]</td>\n",
       "    </tr>\n",
       "    <tr>\n",
       "      <th>2018-01-01 00:35:15</th>\n",
       "      <td>947702742264569857</td>\n",
       "      <td>Tesla $TSLA Rating Increased to Hold at ValuEngine  http://ift.tt/2CjAmm2</td>\n",
       "      <td>rating increase hold valuengine</td>\n",
       "      <td>0.3182</td>\n",
       "      <td>0.0</td>\n",
       "      <td>(0.25, 0.5]</td>\n",
       "      <td>(-0.25, 0.0]</td>\n",
       "    </tr>\n",
       "    <tr>\n",
       "      <th>2018-01-01 01:02:37</th>\n",
       "      <td>947709627394748416</td>\n",
       "      <td>Horseman Capital Management LTD Increases Position in Tesla INC (TSLA)  http://clicklancashire.com/2017/12/31/horseman-capital-management-ltd-increases-position-in-tesla.html …</td>\n",
       "      <td>horseman capital management ltd increase position  inc</td>\n",
       "      <td>0.3182</td>\n",
       "      <td>0.0</td>\n",
       "      <td>(0.25, 0.5]</td>\n",
       "      <td>(-0.25, 0.0]</td>\n",
       "    </tr>\n",
       "    <tr>\n",
       "      <th>2018-01-01 01:15:37</th>\n",
       "      <td>947712900377976832</td>\n",
       "      <td>Tesla INC (TSLA) Holding Lifted by Horseman Capital Management Ltd  http://newburghgazette.com/2017/12/31/tesla-inc-tsla-holding-lifted-by-horseman-capital/ …</td>\n",
       "      <td>inc  hold lifted horseman capital management ltd</td>\n",
       "      <td>0.0000</td>\n",
       "      <td>0.0</td>\n",
       "      <td>(-0.25, 0.0]</td>\n",
       "      <td>(-0.25, 0.0]</td>\n",
       "    </tr>\n",
       "    <tr>\n",
       "      <th>2018-01-01 02:32:14</th>\n",
       "      <td>947732179253170177</td>\n",
       "      <td>Insider Selling: Tesla Inc (NASDAQ:TSLA) VP Sells 1,400 Shares of Stock  http://ift.tt/2lwCJqY</td>\n",
       "      <td>insider sell  inc nasda  vp sell share stock</td>\n",
       "      <td>0.2960</td>\n",
       "      <td>0.0</td>\n",
       "      <td>(0.25, 0.5]</td>\n",
       "      <td>(-0.25, 0.0]</td>\n",
       "    </tr>\n",
       "  </tbody>\n",
       "</table>\n",
       "</div>"
      ],
      "text/plain": [
       "                                     id  \\\n",
       "date_time                                 \n",
       "2018-01-01 00:33:19  947702253313495045   \n",
       "2018-01-01 00:35:15  947702742264569857   \n",
       "2018-01-01 01:02:37  947709627394748416   \n",
       "2018-01-01 01:15:37  947712900377976832   \n",
       "2018-01-01 02:32:14  947732179253170177   \n",
       "\n",
       "                                                                                                                                                                                                tweet  \\\n",
       "date_time                                                                                                                                                                                               \n",
       "2018-01-01 00:33:19                                                                                                        Tesla $TSLA Rating Increased to Hold at ValuEngine  http://ift.tt/2lzM80m    \n",
       "2018-01-01 00:35:15                                                                                                        Tesla $TSLA Rating Increased to Hold at ValuEngine  http://ift.tt/2CjAmm2    \n",
       "2018-01-01 01:02:37  Horseman Capital Management LTD Increases Position in Tesla INC (TSLA)  http://clicklancashire.com/2017/12/31/horseman-capital-management-ltd-increases-position-in-tesla.html …   \n",
       "2018-01-01 01:15:37                    Tesla INC (TSLA) Holding Lifted by Horseman Capital Management Ltd  http://newburghgazette.com/2017/12/31/tesla-inc-tsla-holding-lifted-by-horseman-capital/ …   \n",
       "2018-01-01 02:32:14                                                                                   Insider Selling: Tesla Inc (NASDAQ:TSLA) VP Sells 1,400 Shares of Stock  http://ift.tt/2lwCJqY    \n",
       "\n",
       "                                                                 clean_tweet  \\\n",
       "date_time                                                                      \n",
       "2018-01-01 00:33:19                          rating increase hold valuengine   \n",
       "2018-01-01 00:35:15                          rating increase hold valuengine   \n",
       "2018-01-01 01:02:37  horseman capital management ltd increase position  inc    \n",
       "2018-01-01 01:15:37         inc  hold lifted horseman capital management ltd   \n",
       "2018-01-01 02:32:14             insider sell  inc nasda  vp sell share stock   \n",
       "\n",
       "                     s1_no_0  sentiment_2     binned_s1     binned_s2  \n",
       "date_time                                                              \n",
       "2018-01-01 00:33:19   0.3182          0.0   (0.25, 0.5]  (-0.25, 0.0]  \n",
       "2018-01-01 00:35:15   0.3182          0.0   (0.25, 0.5]  (-0.25, 0.0]  \n",
       "2018-01-01 01:02:37   0.3182          0.0   (0.25, 0.5]  (-0.25, 0.0]  \n",
       "2018-01-01 01:15:37   0.0000          0.0  (-0.25, 0.0]  (-0.25, 0.0]  \n",
       "2018-01-01 02:32:14   0.2960          0.0   (0.25, 0.5]  (-0.25, 0.0]  "
      ]
     },
     "execution_count": 249,
     "metadata": {},
     "output_type": "execute_result"
    }
   ],
   "source": [
    "remove_s1_0 = remove_late_tweets.copy()\n",
    "remove_s1_0 = remove_s1_0.rename(columns={'sentiment_1':'s1_no_0'})\n",
    "remove_s1_0.head()"
   ]
  },
  {
   "cell_type": "code",
   "execution_count": 250,
   "metadata": {},
   "outputs": [
    {
     "name": "stdout",
     "output_type": "stream",
     "text": [
      "There are 40809 tweets with a Vader Sentiment Score of 0\n",
      "There are 63226 tweets with a TextBlob Sentiment Score of 0\n"
     ]
    }
   ],
   "source": [
    "# Check how many tweets had sentiment scores of 0\n",
    "\n",
    "print('There are ' + str((remove_s1_0.s1_no_0 == 0).sum()) + ' tweets with a Vader Sentiment Score of 0')\n",
    "print('There are ' + str((remove_s1_0.sentiment_2 == 0).sum()) + ' tweets with a TextBlob Sentiment Score of 0')"
   ]
  },
  {
   "cell_type": "code",
   "execution_count": 251,
   "metadata": {},
   "outputs": [
    {
     "data": {
      "text/plain": [
       "146923"
      ]
     },
     "execution_count": 251,
     "metadata": {},
     "output_type": "execute_result"
    }
   ],
   "source": [
    "len(remove_s1_0.s1_no_0)"
   ]
  },
  {
   "cell_type": "code",
   "execution_count": 252,
   "metadata": {},
   "outputs": [
    {
     "data": {
      "text/plain": [
       "0"
      ]
     },
     "execution_count": 252,
     "metadata": {},
     "output_type": "execute_result"
    }
   ],
   "source": [
    "# Remove tweets with 0 for sentiment_1 scores\n",
    "\n",
    "remove_s1_0 = remove_s1_0[remove_s1_0.s1_no_0 != 0]\n",
    "(remove_s1_0.s1_no_0 == 0).sum()"
   ]
  },
  {
   "cell_type": "code",
   "execution_count": 253,
   "metadata": {},
   "outputs": [
    {
     "data": {
      "text/plain": [
       "0"
      ]
     },
     "execution_count": 253,
     "metadata": {},
     "output_type": "execute_result"
    }
   ],
   "source": [
    "# Remove tweets with 0 for sentiment_2 scores\n",
    "\n",
    "remove_s2_0 = remove_late_tweets.copy()\n",
    "remove_s2_0 = remove_s2_0.rename(columns={'sentiment_2':'s2_no_0'})\n",
    "remove_s2_0 = remove_s2_0[remove_s2_0.s2_no_0 != 0]\n",
    "(remove_s2_0.s2_no_0 == 0).sum()\n"
   ]
  },
  {
   "cell_type": "code",
   "execution_count": 254,
   "metadata": {},
   "outputs": [],
   "source": [
    "# Resample on date\n",
    "\n",
    "remove_s1_0 = remove_s1_0.resample('D').mean()\n",
    "remove_s2_0 = remove_s2_0.resample('D').mean()"
   ]
  },
  {
   "cell_type": "code",
   "execution_count": 255,
   "metadata": {},
   "outputs": [
    {
     "data": {
      "text/plain": [
       "s1_no_0        0\n",
       "sentiment_2    0\n",
       "dtype: int64"
      ]
     },
     "execution_count": 255,
     "metadata": {},
     "output_type": "execute_result"
    }
   ],
   "source": [
    "# Check that there are no null values\n",
    "\n",
    "remove_s1_0.isnull().sum()"
   ]
  },
  {
   "cell_type": "code",
   "execution_count": 256,
   "metadata": {},
   "outputs": [
    {
     "data": {
      "text/plain": [
       "sentiment_1    0\n",
       "s2_no_0        0\n",
       "dtype: int64"
      ]
     },
     "execution_count": 256,
     "metadata": {},
     "output_type": "execute_result"
    }
   ],
   "source": [
    "# Check that there are no null values\n",
    "\n",
    "remove_s2_0.isnull().sum()"
   ]
  },
  {
   "cell_type": "code",
   "execution_count": 257,
   "metadata": {},
   "outputs": [
    {
     "data": {
      "text/html": [
       "<div>\n",
       "<style scoped>\n",
       "    .dataframe tbody tr th:only-of-type {\n",
       "        vertical-align: middle;\n",
       "    }\n",
       "\n",
       "    .dataframe tbody tr th {\n",
       "        vertical-align: top;\n",
       "    }\n",
       "\n",
       "    .dataframe thead th {\n",
       "        text-align: right;\n",
       "    }\n",
       "</style>\n",
       "<table border=\"1\" class=\"dataframe\">\n",
       "  <thead>\n",
       "    <tr style=\"text-align: right;\">\n",
       "      <th></th>\n",
       "      <th>sentiment_1</th>\n",
       "      <th>sentiment_2</th>\n",
       "      <th>s1_no_0</th>\n",
       "      <th>s2_no_0</th>\n",
       "    </tr>\n",
       "    <tr>\n",
       "      <th>date_time</th>\n",
       "      <th></th>\n",
       "      <th></th>\n",
       "      <th></th>\n",
       "      <th></th>\n",
       "    </tr>\n",
       "  </thead>\n",
       "  <tbody>\n",
       "    <tr>\n",
       "      <th>2018-01-01</th>\n",
       "      <td>0.159220</td>\n",
       "      <td>0.056144</td>\n",
       "      <td>0.253756</td>\n",
       "      <td>0.204524</td>\n",
       "    </tr>\n",
       "    <tr>\n",
       "      <th>2018-01-02</th>\n",
       "      <td>0.129106</td>\n",
       "      <td>0.010886</td>\n",
       "      <td>0.163974</td>\n",
       "      <td>0.065315</td>\n",
       "    </tr>\n",
       "    <tr>\n",
       "      <th>2018-01-03</th>\n",
       "      <td>-0.139748</td>\n",
       "      <td>-0.054146</td>\n",
       "      <td>-0.204682</td>\n",
       "      <td>-0.087235</td>\n",
       "    </tr>\n",
       "    <tr>\n",
       "      <th>2018-01-04</th>\n",
       "      <td>-0.062928</td>\n",
       "      <td>0.012496</td>\n",
       "      <td>-0.086355</td>\n",
       "      <td>0.027508</td>\n",
       "    </tr>\n",
       "    <tr>\n",
       "      <th>2018-01-05</th>\n",
       "      <td>0.050091</td>\n",
       "      <td>0.026263</td>\n",
       "      <td>0.089410</td>\n",
       "      <td>0.069200</td>\n",
       "    </tr>\n",
       "  </tbody>\n",
       "</table>\n",
       "</div>"
      ],
      "text/plain": [
       "            sentiment_1  sentiment_2   s1_no_0   s2_no_0\n",
       "date_time                                               \n",
       "2018-01-01     0.159220     0.056144  0.253756  0.204524\n",
       "2018-01-02     0.129106     0.010886  0.163974  0.065315\n",
       "2018-01-03    -0.139748    -0.054146 -0.204682 -0.087235\n",
       "2018-01-04    -0.062928     0.012496 -0.086355  0.027508\n",
       "2018-01-05     0.050091     0.026263  0.089410  0.069200"
      ]
     },
     "execution_count": 257,
     "metadata": {},
     "output_type": "execute_result"
    }
   ],
   "source": [
    "# Add updated columns back to early_tweets dataframe\n",
    "\n",
    "early_sentiment['s1_no_0'] = remove_s1_0.s1_no_0.values\n",
    "early_sentiment['s2_no_0'] = remove_s2_0.s2_no_0.values\n",
    "early_sentiment.head()"
   ]
  },
  {
   "cell_type": "code",
   "execution_count": 262,
   "metadata": {},
   "outputs": [],
   "source": [
    "# Replace the daily sentiments with the daily sentiments calculated before 3:55 pm\n",
    "\n",
    "daily_sentiment = early_sentiment.copy()"
   ]
  },
  {
   "cell_type": "code",
   "execution_count": 263,
   "metadata": {},
   "outputs": [
    {
     "data": {
      "text/html": [
       "<div>\n",
       "<style scoped>\n",
       "    .dataframe tbody tr th:only-of-type {\n",
       "        vertical-align: middle;\n",
       "    }\n",
       "\n",
       "    .dataframe tbody tr th {\n",
       "        vertical-align: top;\n",
       "    }\n",
       "\n",
       "    .dataframe thead th {\n",
       "        text-align: right;\n",
       "    }\n",
       "</style>\n",
       "<table border=\"1\" class=\"dataframe\">\n",
       "  <thead>\n",
       "    <tr style=\"text-align: right;\">\n",
       "      <th></th>\n",
       "      <th>sentiment_1</th>\n",
       "      <th>sentiment_2</th>\n",
       "      <th>s1_no_0</th>\n",
       "      <th>s2_no_0</th>\n",
       "    </tr>\n",
       "    <tr>\n",
       "      <th>date_time</th>\n",
       "      <th></th>\n",
       "      <th></th>\n",
       "      <th></th>\n",
       "      <th></th>\n",
       "    </tr>\n",
       "  </thead>\n",
       "  <tbody>\n",
       "    <tr>\n",
       "      <th>2018-01-01</th>\n",
       "      <td>0.159220</td>\n",
       "      <td>0.056144</td>\n",
       "      <td>0.253756</td>\n",
       "      <td>0.204524</td>\n",
       "    </tr>\n",
       "    <tr>\n",
       "      <th>2018-01-02</th>\n",
       "      <td>0.129106</td>\n",
       "      <td>0.010886</td>\n",
       "      <td>0.163974</td>\n",
       "      <td>0.065315</td>\n",
       "    </tr>\n",
       "    <tr>\n",
       "      <th>2018-01-03</th>\n",
       "      <td>-0.139748</td>\n",
       "      <td>-0.054146</td>\n",
       "      <td>-0.204682</td>\n",
       "      <td>-0.087235</td>\n",
       "    </tr>\n",
       "    <tr>\n",
       "      <th>2018-01-04</th>\n",
       "      <td>-0.062928</td>\n",
       "      <td>0.012496</td>\n",
       "      <td>-0.086355</td>\n",
       "      <td>0.027508</td>\n",
       "    </tr>\n",
       "    <tr>\n",
       "      <th>2018-01-05</th>\n",
       "      <td>0.050091</td>\n",
       "      <td>0.026263</td>\n",
       "      <td>0.089410</td>\n",
       "      <td>0.069200</td>\n",
       "    </tr>\n",
       "  </tbody>\n",
       "</table>\n",
       "</div>"
      ],
      "text/plain": [
       "            sentiment_1  sentiment_2   s1_no_0   s2_no_0\n",
       "date_time                                               \n",
       "2018-01-01     0.159220     0.056144  0.253756  0.204524\n",
       "2018-01-02     0.129106     0.010886  0.163974  0.065315\n",
       "2018-01-03    -0.139748    -0.054146 -0.204682 -0.087235\n",
       "2018-01-04    -0.062928     0.012496 -0.086355  0.027508\n",
       "2018-01-05     0.050091     0.026263  0.089410  0.069200"
      ]
     },
     "execution_count": 263,
     "metadata": {},
     "output_type": "execute_result"
    }
   ],
   "source": [
    "daily_sentiment.head()"
   ]
  },
  {
   "cell_type": "markdown",
   "metadata": {},
   "source": [
    "## Scaling Sentiment Scores"
   ]
  },
  {
   "cell_type": "code",
   "execution_count": 264,
   "metadata": {},
   "outputs": [
    {
     "data": {
      "text/html": [
       "<div>\n",
       "<style scoped>\n",
       "    .dataframe tbody tr th:only-of-type {\n",
       "        vertical-align: middle;\n",
       "    }\n",
       "\n",
       "    .dataframe tbody tr th {\n",
       "        vertical-align: top;\n",
       "    }\n",
       "\n",
       "    .dataframe thead th {\n",
       "        text-align: right;\n",
       "    }\n",
       "</style>\n",
       "<table border=\"1\" class=\"dataframe\">\n",
       "  <thead>\n",
       "    <tr style=\"text-align: right;\">\n",
       "      <th></th>\n",
       "      <th>sentiment_1</th>\n",
       "      <th>sentiment_2</th>\n",
       "      <th>s1_no_0</th>\n",
       "      <th>s2_no_0</th>\n",
       "      <th>s1_scaled</th>\n",
       "      <th>s2_scaled</th>\n",
       "    </tr>\n",
       "    <tr>\n",
       "      <th>date_time</th>\n",
       "      <th></th>\n",
       "      <th></th>\n",
       "      <th></th>\n",
       "      <th></th>\n",
       "      <th></th>\n",
       "      <th></th>\n",
       "    </tr>\n",
       "  </thead>\n",
       "  <tbody>\n",
       "    <tr>\n",
       "      <th>2018-01-01</th>\n",
       "      <td>0.159220</td>\n",
       "      <td>0.056144</td>\n",
       "      <td>0.253756</td>\n",
       "      <td>0.204524</td>\n",
       "      <td>0.545814</td>\n",
       "      <td>0.017779</td>\n",
       "    </tr>\n",
       "    <tr>\n",
       "      <th>2018-01-02</th>\n",
       "      <td>0.129106</td>\n",
       "      <td>0.010886</td>\n",
       "      <td>0.163974</td>\n",
       "      <td>0.065315</td>\n",
       "      <td>0.447675</td>\n",
       "      <td>-0.136340</td>\n",
       "    </tr>\n",
       "    <tr>\n",
       "      <th>2018-01-03</th>\n",
       "      <td>-0.139748</td>\n",
       "      <td>-0.054146</td>\n",
       "      <td>-0.204682</td>\n",
       "      <td>-0.087235</td>\n",
       "      <td>-0.428520</td>\n",
       "      <td>-0.357795</td>\n",
       "    </tr>\n",
       "    <tr>\n",
       "      <th>2018-01-04</th>\n",
       "      <td>-0.062928</td>\n",
       "      <td>0.012496</td>\n",
       "      <td>-0.086355</td>\n",
       "      <td>0.027508</td>\n",
       "      <td>-0.178162</td>\n",
       "      <td>-0.130857</td>\n",
       "    </tr>\n",
       "    <tr>\n",
       "      <th>2018-01-05</th>\n",
       "      <td>0.050091</td>\n",
       "      <td>0.026263</td>\n",
       "      <td>0.089410</td>\n",
       "      <td>0.069200</td>\n",
       "      <td>0.190164</td>\n",
       "      <td>-0.083976</td>\n",
       "    </tr>\n",
       "  </tbody>\n",
       "</table>\n",
       "</div>"
      ],
      "text/plain": [
       "            sentiment_1  sentiment_2   s1_no_0   s2_no_0  s1_scaled  s2_scaled\n",
       "date_time                                                                     \n",
       "2018-01-01     0.159220     0.056144  0.253756  0.204524   0.545814   0.017779\n",
       "2018-01-02     0.129106     0.010886  0.163974  0.065315   0.447675  -0.136340\n",
       "2018-01-03    -0.139748    -0.054146 -0.204682 -0.087235  -0.428520  -0.357795\n",
       "2018-01-04    -0.062928     0.012496 -0.086355  0.027508  -0.178162  -0.130857\n",
       "2018-01-05     0.050091     0.026263  0.089410  0.069200   0.190164  -0.083976"
      ]
     },
     "execution_count": 264,
     "metadata": {},
     "output_type": "execute_result"
    }
   ],
   "source": [
    "# Scale columns 'sentiment_1' & 'sentiment_2'\n",
    "\n",
    "scaler = MinMaxScaler(feature_range=(-1, 1), copy=True)\n",
    "daily_sentiment['s1_scaled'] = scaler.fit_transform(daily_sentiment[['sentiment_1']])\n",
    "daily_sentiment['s2_scaled'] = scaler.fit_transform(daily_sentiment[['sentiment_2']])\n",
    "daily_sentiment.head()"
   ]
  },
  {
   "cell_type": "markdown",
   "metadata": {},
   "source": [
    "## Save Tweets with Sentiment"
   ]
  },
  {
   "cell_type": "code",
   "execution_count": 265,
   "metadata": {},
   "outputs": [],
   "source": [
    "filepath = r'/Users/erikadauria/Flatiron/Projects/Tesla_Twitter_Sentiment_Analysis/daily_sentiment_scores.csv'"
   ]
  },
  {
   "cell_type": "code",
   "execution_count": 266,
   "metadata": {},
   "outputs": [],
   "source": [
    "daily_sentiment.to_csv(filepath, header=True)"
   ]
  },
  {
   "cell_type": "code",
   "execution_count": 267,
   "metadata": {},
   "outputs": [
    {
     "data": {
      "text/html": [
       "<div>\n",
       "<style scoped>\n",
       "    .dataframe tbody tr th:only-of-type {\n",
       "        vertical-align: middle;\n",
       "    }\n",
       "\n",
       "    .dataframe tbody tr th {\n",
       "        vertical-align: top;\n",
       "    }\n",
       "\n",
       "    .dataframe thead th {\n",
       "        text-align: right;\n",
       "    }\n",
       "</style>\n",
       "<table border=\"1\" class=\"dataframe\">\n",
       "  <thead>\n",
       "    <tr style=\"text-align: right;\">\n",
       "      <th></th>\n",
       "      <th>date_time</th>\n",
       "      <th>sentiment_1</th>\n",
       "      <th>sentiment_2</th>\n",
       "      <th>s1_no_0</th>\n",
       "      <th>s2_no_0</th>\n",
       "      <th>s1_scaled</th>\n",
       "      <th>s2_scaled</th>\n",
       "    </tr>\n",
       "  </thead>\n",
       "  <tbody>\n",
       "    <tr>\n",
       "      <th>0</th>\n",
       "      <td>2018-01-01</td>\n",
       "      <td>0.159220</td>\n",
       "      <td>0.056144</td>\n",
       "      <td>0.253756</td>\n",
       "      <td>0.204524</td>\n",
       "      <td>0.545814</td>\n",
       "      <td>0.017779</td>\n",
       "    </tr>\n",
       "    <tr>\n",
       "      <th>1</th>\n",
       "      <td>2018-01-02</td>\n",
       "      <td>0.129106</td>\n",
       "      <td>0.010886</td>\n",
       "      <td>0.163974</td>\n",
       "      <td>0.065315</td>\n",
       "      <td>0.447675</td>\n",
       "      <td>-0.136340</td>\n",
       "    </tr>\n",
       "    <tr>\n",
       "      <th>2</th>\n",
       "      <td>2018-01-03</td>\n",
       "      <td>-0.139748</td>\n",
       "      <td>-0.054146</td>\n",
       "      <td>-0.204682</td>\n",
       "      <td>-0.087235</td>\n",
       "      <td>-0.428520</td>\n",
       "      <td>-0.357795</td>\n",
       "    </tr>\n",
       "    <tr>\n",
       "      <th>3</th>\n",
       "      <td>2018-01-04</td>\n",
       "      <td>-0.062928</td>\n",
       "      <td>0.012496</td>\n",
       "      <td>-0.086355</td>\n",
       "      <td>0.027508</td>\n",
       "      <td>-0.178162</td>\n",
       "      <td>-0.130857</td>\n",
       "    </tr>\n",
       "    <tr>\n",
       "      <th>4</th>\n",
       "      <td>2018-01-05</td>\n",
       "      <td>0.050091</td>\n",
       "      <td>0.026263</td>\n",
       "      <td>0.089410</td>\n",
       "      <td>0.069200</td>\n",
       "      <td>0.190164</td>\n",
       "      <td>-0.083976</td>\n",
       "    </tr>\n",
       "  </tbody>\n",
       "</table>\n",
       "</div>"
      ],
      "text/plain": [
       "    date_time  sentiment_1  sentiment_2   s1_no_0   s2_no_0  s1_scaled  \\\n",
       "0  2018-01-01     0.159220     0.056144  0.253756  0.204524   0.545814   \n",
       "1  2018-01-02     0.129106     0.010886  0.163974  0.065315   0.447675   \n",
       "2  2018-01-03    -0.139748    -0.054146 -0.204682 -0.087235  -0.428520   \n",
       "3  2018-01-04    -0.062928     0.012496 -0.086355  0.027508  -0.178162   \n",
       "4  2018-01-05     0.050091     0.026263  0.089410  0.069200   0.190164   \n",
       "\n",
       "   s2_scaled  \n",
       "0   0.017779  \n",
       "1  -0.136340  \n",
       "2  -0.357795  \n",
       "3  -0.130857  \n",
       "4  -0.083976  "
      ]
     },
     "execution_count": 267,
     "metadata": {},
     "output_type": "execute_result"
    }
   ],
   "source": [
    "test = pd.read_csv('daily_sentiment_scores.csv')\n",
    "test.head()"
   ]
  }
 ],
 "metadata": {
  "kernelspec": {
   "display_name": "Python 3",
   "language": "python",
   "name": "python3"
  },
  "language_info": {
   "codemirror_mode": {
    "name": "ipython",
    "version": 3
   },
   "file_extension": ".py",
   "mimetype": "text/x-python",
   "name": "python",
   "nbconvert_exporter": "python",
   "pygments_lexer": "ipython3",
   "version": "3.7.3"
  }
 },
 "nbformat": 4,
 "nbformat_minor": 2
}
